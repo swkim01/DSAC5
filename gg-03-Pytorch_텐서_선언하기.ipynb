{
  "nbformat": 4,
  "nbformat_minor": 0,
  "metadata": {
    "kernelspec": {
      "display_name": "Python 3",
      "language": "python",
      "name": "python3"
    },
    "language_info": {
      "codemirror_mode": {
        "name": "ipython",
        "version": 3
      },
      "file_extension": ".py",
      "mimetype": "text/x-python",
      "name": "python",
      "nbconvert_exporter": "python",
      "pygments_lexer": "ipython3",
      "version": "3.7.4"
    },
    "colab": {
      "name": "gg-03-Pytorch 텐서 선언하기.ipynb",
      "provenance": [],
      "collapsed_sections": []
    }
  },
  "cells": [
    {
      "cell_type": "markdown",
      "metadata": {
        "id": "fYD6-T5u0HBJ"
      },
      "source": [
        "###<h1>PyTorch 텐서 선언하기</h1>\r\n",
        "\r\n",
        "<table class=\"tfo-notebook-buttons\" align=\"left\">\r\n",
        "  <td>\r\n",
        "    <a target=\"_blank\" href=\"https://colab.research.google.com/github/swkim01/DSAC5/blob/main/gg-03-Pytorch_텐서_선언하기.ipynb\"><img src=\"https://github.com/swkim01/DSAC5/raw/main/colab_logo_32px.png\" />구글 코랩에서 실행</a>\r\n",
        "  </td>\r\n",
        "  <td>\r\n",
        "    <a target=\"_blank\" href=\"https://github.com/swkim01/DSAC5/blob/main/gg-03-Pytorch_텐서_선언하기.ipynb\"><img src=\"https://github.com/swkim01/DSAC5/raw/main/GitHub-Mark-32px.png\" />깃헙에서 소스 보기</a>\r\n",
        "  </td>\r\n",
        "</table>"
      ]
    },
    {
      "cell_type": "markdown",
      "metadata": {
        "id": "0z54GGob0HBJ"
      },
      "source": [
        "<h3>Pytorch는 Numpy와 매우 유사하다. Pytorch로 1차원 벡터를 만들고 접근해 보도록 한다.</h3>"
      ]
    },
    {
      "cell_type": "code",
      "metadata": {
        "id": "Dg_6S-Pk0HBJ",
        "colab": {
          "base_uri": "https://localhost:8080/"
        },
        "outputId": "6f33d5d9-4fb1-41e9-c7d0-1f95d76ce4d4"
      },
      "source": [
        "import torch\n",
        "t = torch.FloatTensor([0., 1., 2., 3., 4., 5., 6.])\n",
        "print(t)\n",
        "print(t.dim())  \n",
        "print(t.shape) \n",
        "print(t.size()) \n",
        "print(t[0], t[1], t[-1])  \n",
        "print(t[2:5], t[4:-1])   \n",
        "print(t[:2], t[3:])      "
      ],
      "execution_count": null,
      "outputs": [
        {
          "output_type": "stream",
          "text": [
            "tensor([0., 1., 2., 3., 4., 5., 6.])\n",
            "1\n",
            "torch.Size([7])\n",
            "torch.Size([7])\n",
            "tensor(0.) tensor(1.) tensor(6.)\n",
            "tensor([2., 3., 4.]) tensor([4., 5.])\n",
            "tensor([0., 1.]) tensor([3., 4., 5., 6.])\n"
          ],
          "name": "stdout"
        }
      ]
    },
    {
      "cell_type": "markdown",
      "metadata": {
        "id": "GMTtfpzF0HBK"
      },
      "source": [
        "<h3>Pytorch로 2차원 벡터를 만들고 접근해 보도록 한다.</h3>"
      ]
    },
    {
      "cell_type": "code",
      "metadata": {
        "id": "agQQfrAh0HBK",
        "colab": {
          "base_uri": "https://localhost:8080/"
        },
        "outputId": "aa9e5579-00c0-4ba8-b400-c902aa6f8693"
      },
      "source": [
        "t = torch.FloatTensor([[1., 2., 3.],\n",
        "                       [4., 5., 6.],\n",
        "                       [7., 8., 9.],\n",
        "                       [10., 11., 12.]\n",
        "                      ])\n",
        "print(t)\n",
        "print(t.dim())  \n",
        "print(t.size()) \n",
        "print(t[:, 1]) \n",
        "print(t[:, 1].size()) \n",
        "print(t[:, :-1]) "
      ],
      "execution_count": null,
      "outputs": [
        {
          "output_type": "stream",
          "text": [
            "tensor([[ 1.,  2.,  3.],\n",
            "        [ 4.,  5.,  6.],\n",
            "        [ 7.,  8.,  9.],\n",
            "        [10., 11., 12.]])\n",
            "2\n",
            "torch.Size([4, 3])\n",
            "tensor([ 2.,  5.,  8., 11.])\n",
            "torch.Size([4])\n",
            "tensor([[ 1.,  2.],\n",
            "        [ 4.,  5.],\n",
            "        [ 7.,  8.],\n",
            "        [10., 11.]])\n"
          ],
          "name": "stdout"
        }
      ]
    },
    {
      "cell_type": "code",
      "metadata": {
        "id": "mYULdqKk0HBK"
      },
      "source": [
        ""
      ],
      "execution_count": null,
      "outputs": []
    }
  ]
}