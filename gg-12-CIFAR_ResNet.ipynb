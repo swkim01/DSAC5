{
  "nbformat": 4,
  "nbformat_minor": 0,
  "metadata": {
    "kernelspec": {
      "display_name": "Python 3",
      "language": "python",
      "name": "python3"
    },
    "language_info": {
      "codemirror_mode": {
        "name": "ipython",
        "version": 3
      },
      "file_extension": ".py",
      "mimetype": "text/x-python",
      "name": "python",
      "nbconvert_exporter": "python",
      "pygments_lexer": "ipython3",
      "version": "3.6.8"
    },
    "colab": {
      "name": "gg-12-CIFAR_ResNet.ipynb",
      "provenance": [],
      "collapsed_sections": []
    },
    "accelerator": "GPU"
  },
  "cells": [
    {
      "cell_type": "markdown",
      "metadata": {
        "id": "yCUbfjMFCWaS"
      },
      "source": [
        "## ResNet CIFAR\r\n",
        "\r\n",
        "<table class=\"tfo-notebook-buttons\" align=\"left\">\r\n",
        "  <td>\r\n",
        "    <a target=\"_blank\" href=\"https://colab.research.google.com/github/swkim01/DSAC5/blob/main/gg-12-CIFAR_ResNet.ipynb\"><img src=\"https://github.com/swkim01/DSAC5/raw/main/colab_logo_32px.png\" />구글 코랩에서 실행</a>\r\n",
        "  </td>\r\n",
        "  <td>\r\n",
        "    <a target=\"_blank\" href=\"https://github.com/swkim01/DSAC5/blob/main/gg-12-CIFAR_ResNet.ipynb\"><img src=\"https://github.com/swkim01/DSAC5/raw/main/GitHub-Mark-32px.png\" />깃헙에서 소스 보기</a>\r\n",
        "  </td>\r\n",
        "</table>"
      ]
    },
    {
      "cell_type": "code",
      "metadata": {
        "id": "9qK1PGsHraqX"
      },
      "source": [
        "''' 1. Module Import '''\n",
        "import numpy as np\n",
        "import matplotlib.pyplot as plt\n",
        "\n",
        "import torch\n",
        "import torch.nn as nn\n",
        "import torch.nn.functional as F\n",
        "from torchvision import transforms, datasets"
      ],
      "execution_count": null,
      "outputs": []
    },
    {
      "cell_type": "code",
      "metadata": {
        "colab": {
          "base_uri": "https://localhost:8080/"
        },
        "id": "D8nAScwuraqY",
        "outputId": "2e1a0ddf-d1bf-4e88-b937-f1d75c81e762"
      },
      "source": [
        "''' 2. 딥러닝 모델을 설계할 때 활용하는 장비 확인 '''\n",
        "if torch.cuda.is_available():\n",
        "    DEVICE = torch.device('cuda')\n",
        "else:\n",
        "    DEVICE = torch.device('cpu')\n",
        "print('Using PyTorch version:', torch.__version__, ' Device:', DEVICE)"
      ],
      "execution_count": null,
      "outputs": [
        {
          "output_type": "stream",
          "text": [
            "Using PyTorch version: 1.7.0+cu101  Device: cuda\n"
          ],
          "name": "stdout"
        }
      ]
    },
    {
      "cell_type": "code",
      "metadata": {
        "id": "kJO-NV5Braqc"
      },
      "source": [
        "BATCH_SIZE = 32\n",
        "EPOCHS = 10"
      ],
      "execution_count": null,
      "outputs": []
    },
    {
      "cell_type": "code",
      "metadata": {
        "colab": {
          "base_uri": "https://localhost:8080/"
        },
        "id": "R748SVdhraqc",
        "outputId": "9ae33b5b-1028-4213-8fca-393c77a25df5"
      },
      "source": [
        "''' 3. Data Augmentation이 적용된 CIFAR10 데이터 다운로드 (Train set, Test set 분리하기) '''\n",
        "train_dataset = datasets.CIFAR10(root = \"../data/CIFAR_10\",\n",
        "                                  train = True,\n",
        "                                  download = True,\n",
        "                                  transform = transforms.Compose([\n",
        "                                    transforms.RandomHorizontalFlip(),\n",
        "                                    transforms.ToTensor(),\n",
        "                                    transforms.Normalize((0.5, 0.5, 0.5), (0.5, 0.5, 0.5))]))\n",
        "\n",
        "test_dataset = datasets.CIFAR10(root = \"../data/CIFAR_10\",\n",
        "                                train = False,\n",
        "                                transform = transforms.Compose([\n",
        "                                    transforms.RandomHorizontalFlip(),\n",
        "                                    transforms.ToTensor(),\n",
        "                                    transforms.Normalize((0.5, 0.5, 0.5), (0.5, 0.5, 0.5))]))\n",
        "\n",
        "train_loader = torch.utils.data.DataLoader(dataset = train_dataset,\n",
        "                                            batch_size = BATCH_SIZE,\n",
        "                                            shuffle = True)\n",
        "\n",
        "test_loader = torch.utils.data.DataLoader(dataset = test_dataset,\n",
        "                                          batch_size = BATCH_SIZE,\n",
        "                                          shuffle = False)"
      ],
      "execution_count": null,
      "outputs": [
        {
          "output_type": "stream",
          "text": [
            "Files already downloaded and verified\n"
          ],
          "name": "stdout"
        }
      ]
    },
    {
      "cell_type": "code",
      "metadata": {
        "colab": {
          "base_uri": "https://localhost:8080/"
        },
        "id": "ZSfRoGbwraqc",
        "outputId": "30a994e1-dede-4d10-8cad-d86d94d62686"
      },
      "source": [
        "''' 4. 데이터 확인하기 (1) '''\n",
        "for (X_train, y_train) in train_loader:\n",
        "    print('X_train:', X_train.size(), 'type:', X_train.type())\n",
        "    print('y_train:', y_train.size(), 'type:', y_train.type())\n",
        "    break"
      ],
      "execution_count": null,
      "outputs": [
        {
          "output_type": "stream",
          "text": [
            "X_train: torch.Size([32, 3, 32, 32]) type: torch.FloatTensor\n",
            "y_train: torch.Size([32]) type: torch.LongTensor\n"
          ],
          "name": "stdout"
        }
      ]
    },
    {
      "cell_type": "code",
      "metadata": {
        "colab": {
          "base_uri": "https://localhost:8080/",
          "height": 274
        },
        "id": "EXsikGlpraqd",
        "outputId": "c9727011-3132-4a15-8321-6ed791a8a777"
      },
      "source": [
        "''' 5. 데이터 확인하기 (2) '''\n",
        "pltsize = 1\n",
        "plt.figure(figsize=(10 * pltsize, pltsize))\n",
        "\n",
        "for i in range(10):\n",
        "    plt.subplot(1, 10, i + 1)\n",
        "    plt.axis('off')\n",
        "    plt.imshow(np.transpose(X_train[i], (1, 2, 0)))\n",
        "    plt.title('Class: ' + str(y_train[i].item()))"
      ],
      "execution_count": null,
      "outputs": [
        {
          "output_type": "stream",
          "text": [
            "Clipping input data to the valid range for imshow with RGB data ([0..1] for floats or [0..255] for integers).\n",
            "Clipping input data to the valid range for imshow with RGB data ([0..1] for floats or [0..255] for integers).\n",
            "Clipping input data to the valid range for imshow with RGB data ([0..1] for floats or [0..255] for integers).\n",
            "Clipping input data to the valid range for imshow with RGB data ([0..1] for floats or [0..255] for integers).\n",
            "Clipping input data to the valid range for imshow with RGB data ([0..1] for floats or [0..255] for integers).\n",
            "Clipping input data to the valid range for imshow with RGB data ([0..1] for floats or [0..255] for integers).\n",
            "Clipping input data to the valid range for imshow with RGB data ([0..1] for floats or [0..255] for integers).\n",
            "Clipping input data to the valid range for imshow with RGB data ([0..1] for floats or [0..255] for integers).\n",
            "Clipping input data to the valid range for imshow with RGB data ([0..1] for floats or [0..255] for integers).\n",
            "Clipping input data to the valid range for imshow with RGB data ([0..1] for floats or [0..255] for integers).\n"
          ],
          "name": "stderr"
        },
        {
          "output_type": "display_data",
          "data": {
            "image/png": "[encoded data removed]",
            "text/plain": [
              "<Figure size 720x72 with 10 Axes>"
            ]
          },
          "metadata": {
            "tags": [],
            "needs_background": "light"
          }
        }
      ]
    },
    {
      "cell_type": "code",
      "metadata": {
        "id": "ZCDdKqiUraqd"
      },
      "source": [
        "''' 6. ResNet 모델 설계하기 '''\n",
        "class BasicBlock(nn.Module):\n",
        "    def __init__(self, in_planes, planes, stride = 1):\n",
        "        super(BasicBlock, self).__init__()\n",
        "        self.conv1 = nn.Conv2d(in_planes, planes, kernel_size = 3, stride = stride, padding = 1, bias = False)\n",
        "        self.bn1 = nn.BatchNorm2d(planes)\n",
        "        self.conv2 = nn.Conv2d(planes, planes, kernel_size = 3, stride = 1, padding = 1, bias = False)\n",
        "        self.bn2 = nn.BatchNorm2d(planes)\n",
        "        \n",
        "        self.shortcut = nn.Sequential()\n",
        "        if stride != 1 or in_planes != planes:\n",
        "            self.shortcut = nn.Sequential(\n",
        "                nn.Conv2d(in_planes, planes, kernel_size = 1, stride = stride, bias = False),\n",
        "                nn.BatchNorm2d(planes))\n",
        "    \n",
        "    def forward(self, x):\n",
        "        out = F.relu(self.bn1(self.conv1(x)))\n",
        "        out = self.bn2(self.conv2(out))\n",
        "        out += self.shortcut(x)\n",
        "        out = F.relu(out)\n",
        "        return out\n",
        "    \n",
        "class ResNet(nn.Module):\n",
        "    def __init__(self, num_classes = 10):\n",
        "        super(ResNet, self).__init__()\n",
        "        self.in_planes = 16\n",
        "        \n",
        "        self.conv1 = nn.Conv2d(3, 16, kernel_size = 3, stride = 1, padding = 1, bias = False)\n",
        "        self.bn1 = nn.BatchNorm2d(16)\n",
        "        self.layer1 = self._make_layer(16, 2, stride = 1)\n",
        "        self.layer2 = self._make_layer(32, 2, stride = 2)\n",
        "        self.layer3 = self._make_layer(64, 2, stride = 2)\n",
        "        self.linear = nn.Linear(64, num_classes)\n",
        "        \n",
        "    def _make_layer(self, planes, num_blocks, stride):\n",
        "        strides = [stride] + [1] * (num_blocks  - 1)\n",
        "        layers = []\n",
        "        for stride in strides:\n",
        "            layers.append(BasicBlock(self.in_planes, planes, stride))\n",
        "            self.in_planes = planes\n",
        "        return nn.Sequential(*layers)\n",
        "    \n",
        "    def forward(self, x):\n",
        "        out = F.relu(self.bn1(self.conv1(x)))\n",
        "        out = self.layer1(out)\n",
        "        out = self.layer2(out)\n",
        "        out = self.layer3(out)\n",
        "        out = F.avg_pool2d(out, 8)\n",
        "        out = out.view(out.size(0), -1)\n",
        "        out = self.linear(out)\n",
        "        return out"
      ],
      "execution_count": null,
      "outputs": []
    },
    {
      "cell_type": "code",
      "metadata": {
        "colab": {
          "base_uri": "https://localhost:8080/"
        },
        "id": "utTyf_vtraqd",
        "outputId": "ea73cccd-31b3-4f3c-af66-8d854fb3b28b"
      },
      "source": [
        "''' 7. Optimizer, Objective Function 설정하기 '''\n",
        "model = ResNet().to(DEVICE)\n",
        "optimizer = torch.optim.Adam(model.parameters(), lr = 0.001)\n",
        "criterion = nn.CrossEntropyLoss()\n",
        "\n",
        "print(model)"
      ],
      "execution_count": null,
      "outputs": [
        {
          "output_type": "stream",
          "text": [
            "ResNet(\n",
            "  (conv1): Conv2d(3, 16, kernel_size=(3, 3), stride=(1, 1), padding=(1, 1), bias=False)\n",
            "  (bn1): BatchNorm2d(16, eps=1e-05, momentum=0.1, affine=True, track_running_stats=True)\n",
            "  (layer1): Sequential(\n",
            "    (0): BasicBlock(\n",
            "      (conv1): Conv2d(16, 16, kernel_size=(3, 3), stride=(1, 1), padding=(1, 1), bias=False)\n",
            "      (bn1): BatchNorm2d(16, eps=1e-05, momentum=0.1, affine=True, track_running_stats=True)\n",
            "      (conv2): Conv2d(16, 16, kernel_size=(3, 3), stride=(1, 1), padding=(1, 1), bias=False)\n",
            "      (bn2): BatchNorm2d(16, eps=1e-05, momentum=0.1, affine=True, track_running_stats=True)\n",
            "      (shortcut): Sequential()\n",
            "    )\n",
            "    (1): BasicBlock(\n",
            "      (conv1): Conv2d(16, 16, kernel_size=(3, 3), stride=(1, 1), padding=(1, 1), bias=False)\n",
            "      (bn1): BatchNorm2d(16, eps=1e-05, momentum=0.1, affine=True, track_running_stats=True)\n",
            "      (conv2): Conv2d(16, 16, kernel_size=(3, 3), stride=(1, 1), padding=(1, 1), bias=False)\n",
            "      (bn2): BatchNorm2d(16, eps=1e-05, momentum=0.1, affine=True, track_running_stats=True)\n",
            "      (shortcut): Sequential()\n",
            "    )\n",
            "  )\n",
            "  (layer2): Sequential(\n",
            "    (0): BasicBlock(\n",
            "      (conv1): Conv2d(16, 32, kernel_size=(3, 3), stride=(2, 2), padding=(1, 1), bias=False)\n",
            "      (bn1): BatchNorm2d(32, eps=1e-05, momentum=0.1, affine=True, track_running_stats=True)\n",
            "      (conv2): Conv2d(32, 32, kernel_size=(3, 3), stride=(1, 1), padding=(1, 1), bias=False)\n",
            "      (bn2): BatchNorm2d(32, eps=1e-05, momentum=0.1, affine=True, track_running_stats=True)\n",
            "      (shortcut): Sequential(\n",
            "        (0): Conv2d(16, 32, kernel_size=(1, 1), stride=(2, 2), bias=False)\n",
            "        (1): BatchNorm2d(32, eps=1e-05, momentum=0.1, affine=True, track_running_stats=True)\n",
            "      )\n",
            "    )\n",
            "    (1): BasicBlock(\n",
            "      (conv1): Conv2d(32, 32, kernel_size=(3, 3), stride=(1, 1), padding=(1, 1), bias=False)\n",
            "      (bn1): BatchNorm2d(32, eps=1e-05, momentum=0.1, affine=True, track_running_stats=True)\n",
            "      (conv2): Conv2d(32, 32, kernel_size=(3, 3), stride=(1, 1), padding=(1, 1), bias=False)\n",
            "      (bn2): BatchNorm2d(32, eps=1e-05, momentum=0.1, affine=True, track_running_stats=True)\n",
            "      (shortcut): Sequential()\n",
            "    )\n",
            "  )\n",
            "  (layer3): Sequential(\n",
            "    (0): BasicBlock(\n",
            "      (conv1): Conv2d(32, 64, kernel_size=(3, 3), stride=(2, 2), padding=(1, 1), bias=False)\n",
            "      (bn1): BatchNorm2d(64, eps=1e-05, momentum=0.1, affine=True, track_running_stats=True)\n",
            "      (conv2): Conv2d(64, 64, kernel_size=(3, 3), stride=(1, 1), padding=(1, 1), bias=False)\n",
            "      (bn2): BatchNorm2d(64, eps=1e-05, momentum=0.1, affine=True, track_running_stats=True)\n",
            "      (shortcut): Sequential(\n",
            "        (0): Conv2d(32, 64, kernel_size=(1, 1), stride=(2, 2), bias=False)\n",
            "        (1): BatchNorm2d(64, eps=1e-05, momentum=0.1, affine=True, track_running_stats=True)\n",
            "      )\n",
            "    )\n",
            "    (1): BasicBlock(\n",
            "      (conv1): Conv2d(64, 64, kernel_size=(3, 3), stride=(1, 1), padding=(1, 1), bias=False)\n",
            "      (bn1): BatchNorm2d(64, eps=1e-05, momentum=0.1, affine=True, track_running_stats=True)\n",
            "      (conv2): Conv2d(64, 64, kernel_size=(3, 3), stride=(1, 1), padding=(1, 1), bias=False)\n",
            "      (bn2): BatchNorm2d(64, eps=1e-05, momentum=0.1, affine=True, track_running_stats=True)\n",
            "      (shortcut): Sequential()\n",
            "    )\n",
            "  )\n",
            "  (linear): Linear(in_features=64, out_features=10, bias=True)\n",
            ")\n"
          ],
          "name": "stdout"
        }
      ]
    },
    {
      "cell_type": "code",
      "metadata": {
        "id": "T9E174PRraqe"
      },
      "source": [
        "''' 8. ResNet 모델 학습을 진행하며 학습 데이터에 대한 모델 성능을 확인하는 함수 정의 '''\n",
        "def train(model, train_loader, optimizer, log_interval):\n",
        "    model.train()\n",
        "    for batch_idx, (image, label) in enumerate(train_loader):\n",
        "        image = image.to(DEVICE)\n",
        "        label = label.to(DEVICE)\n",
        "        optimizer.zero_grad()\n",
        "        output = model(image)\n",
        "        loss = criterion(output, label)\n",
        "        loss.backward()\n",
        "        optimizer.step()\n",
        "\n",
        "        if batch_idx % log_interval == 0:\n",
        "            print(\"Train Epoch: {} [{}/{} ({:.0f}%)]\\tTrain Loss: {:.6f}\".format(\n",
        "                epoch, batch_idx * len(image), \n",
        "                len(train_loader.dataset), 100. * batch_idx / len(train_loader), \n",
        "                loss.item()))"
      ],
      "execution_count": null,
      "outputs": []
    },
    {
      "cell_type": "code",
      "metadata": {
        "id": "mAcsm7ciraqe"
      },
      "source": [
        "''' 9. 학습되는 과정 속에서 검증 데이터에 대한 모델 성능을 확인하는 함수 정의 '''\n",
        "def evaluate(model, test_loader):\n",
        "    model.eval()\n",
        "    test_loss = 0\n",
        "    correct = 0\n",
        "\n",
        "    with torch.no_grad():\n",
        "        for image, label in test_loader:\n",
        "            image = image.to(DEVICE)\n",
        "            label = label.to(DEVICE)\n",
        "            output = model(image)\n",
        "            test_loss += criterion(output, label).item()\n",
        "            prediction = output.max(1, keepdim = True)[1]\n",
        "            correct += prediction.eq(label.view_as(prediction)).sum().item()\n",
        "    \n",
        "    test_loss /= len(test_loader.dataset)\n",
        "    test_accuracy = 100. * correct / len(test_loader.dataset)\n",
        "    return test_loss, test_accuracy"
      ],
      "execution_count": null,
      "outputs": []
    },
    {
      "cell_type": "code",
      "metadata": {
        "colab": {
          "base_uri": "https://localhost:8080/"
        },
        "id": "1hSucEdCraqe",
        "outputId": "37ff248b-dfe8-48c1-e90b-4644c7d3ec8c"
      },
      "source": [
        "''' 10. ResNet 학습 실행하며 Train, Test set의 Loss 및 Test set Accuracy 확인하기 '''\n",
        "for epoch in range(1, EPOCHS + 1):\n",
        "    train(model, train_loader, optimizer, log_interval = 200)\n",
        "    test_loss, test_accuracy = evaluate(model, test_loader)\n",
        "    print(\"\\n[EPOCH: {}], \\tTest Loss: {:.4f}, \\tTest Accuracy: {:.2f} % \\n\".format(\n",
        "        epoch, test_loss, test_accuracy))"
      ],
      "execution_count": null,
      "outputs": [
        {
          "output_type": "stream",
          "text": [
            "Train Epoch: 1 [0/50000 (0%)]\tTrain Loss: 2.301879\n",
            "Train Epoch: 1 [6400/50000 (13%)]\tTrain Loss: 1.480964\n",
            "Train Epoch: 1 [12800/50000 (26%)]\tTrain Loss: 1.577842\n",
            "Train Epoch: 1 [19200/50000 (38%)]\tTrain Loss: 1.582568\n",
            "Train Epoch: 1 [25600/50000 (51%)]\tTrain Loss: 1.350451\n",
            "Train Epoch: 1 [32000/50000 (64%)]\tTrain Loss: 0.933087\n",
            "Train Epoch: 1 [38400/50000 (77%)]\tTrain Loss: 0.934992\n",
            "Train Epoch: 1 [44800/50000 (90%)]\tTrain Loss: 0.828111\n",
            "\n",
            "[EPOCH: 1], \tTest Loss: 0.0338, \tTest Accuracy: 62.38 % \n",
            "\n",
            "Train Epoch: 2 [0/50000 (0%)]\tTrain Loss: 1.174259\n",
            "Train Epoch: 2 [6400/50000 (13%)]\tTrain Loss: 1.281611\n",
            "Train Epoch: 2 [12800/50000 (26%)]\tTrain Loss: 1.131102\n",
            "Train Epoch: 2 [19200/50000 (38%)]\tTrain Loss: 0.946528\n",
            "Train Epoch: 2 [25600/50000 (51%)]\tTrain Loss: 0.849007\n",
            "Train Epoch: 2 [32000/50000 (64%)]\tTrain Loss: 0.801961\n",
            "Train Epoch: 2 [38400/50000 (77%)]\tTrain Loss: 0.775196\n",
            "Train Epoch: 2 [44800/50000 (90%)]\tTrain Loss: 1.050562\n",
            "\n",
            "[EPOCH: 2], \tTest Loss: 0.0256, \tTest Accuracy: 70.86 % \n",
            "\n",
            "Train Epoch: 3 [0/50000 (0%)]\tTrain Loss: 0.744711\n",
            "Train Epoch: 3 [6400/50000 (13%)]\tTrain Loss: 0.635071\n",
            "Train Epoch: 3 [12800/50000 (26%)]\tTrain Loss: 0.739988\n",
            "Train Epoch: 3 [19200/50000 (38%)]\tTrain Loss: 0.768687\n",
            "Train Epoch: 3 [25600/50000 (51%)]\tTrain Loss: 0.417573\n",
            "Train Epoch: 3 [32000/50000 (64%)]\tTrain Loss: 0.692074\n",
            "Train Epoch: 3 [38400/50000 (77%)]\tTrain Loss: 0.836437\n",
            "Train Epoch: 3 [44800/50000 (90%)]\tTrain Loss: 0.997467\n",
            "\n",
            "[EPOCH: 3], \tTest Loss: 0.0241, \tTest Accuracy: 73.48 % \n",
            "\n",
            "Train Epoch: 4 [0/50000 (0%)]\tTrain Loss: 0.509904\n",
            "Train Epoch: 4 [6400/50000 (13%)]\tTrain Loss: 0.728439\n",
            "Train Epoch: 4 [12800/50000 (26%)]\tTrain Loss: 0.453047\n",
            "Train Epoch: 4 [19200/50000 (38%)]\tTrain Loss: 0.763184\n",
            "Train Epoch: 4 [25600/50000 (51%)]\tTrain Loss: 0.512469\n",
            "Train Epoch: 4 [32000/50000 (64%)]\tTrain Loss: 0.987974\n",
            "Train Epoch: 4 [38400/50000 (77%)]\tTrain Loss: 0.593835\n",
            "Train Epoch: 4 [44800/50000 (90%)]\tTrain Loss: 0.622201\n",
            "\n",
            "[EPOCH: 4], \tTest Loss: 0.0221, \tTest Accuracy: 75.64 % \n",
            "\n",
            "Train Epoch: 5 [0/50000 (0%)]\tTrain Loss: 0.413303\n",
            "Train Epoch: 5 [6400/50000 (13%)]\tTrain Loss: 0.442807\n",
            "Train Epoch: 5 [12800/50000 (26%)]\tTrain Loss: 0.819033\n",
            "Train Epoch: 5 [19200/50000 (38%)]\tTrain Loss: 0.519570\n",
            "Train Epoch: 5 [25600/50000 (51%)]\tTrain Loss: 0.600331\n",
            "Train Epoch: 5 [32000/50000 (64%)]\tTrain Loss: 0.499508\n",
            "Train Epoch: 5 [38400/50000 (77%)]\tTrain Loss: 0.986363\n",
            "Train Epoch: 5 [44800/50000 (90%)]\tTrain Loss: 0.551213\n",
            "\n",
            "[EPOCH: 5], \tTest Loss: 0.0200, \tTest Accuracy: 78.35 % \n",
            "\n",
            "Train Epoch: 6 [0/50000 (0%)]\tTrain Loss: 0.752232\n",
            "Train Epoch: 6 [6400/50000 (13%)]\tTrain Loss: 0.409729\n",
            "Train Epoch: 6 [12800/50000 (26%)]\tTrain Loss: 0.834653\n",
            "Train Epoch: 6 [19200/50000 (38%)]\tTrain Loss: 0.460540\n",
            "Train Epoch: 6 [25600/50000 (51%)]\tTrain Loss: 0.981025\n",
            "Train Epoch: 6 [32000/50000 (64%)]\tTrain Loss: 0.791832\n",
            "Train Epoch: 6 [38400/50000 (77%)]\tTrain Loss: 0.616400\n",
            "Train Epoch: 6 [44800/50000 (90%)]\tTrain Loss: 0.858002\n",
            "\n",
            "[EPOCH: 6], \tTest Loss: 0.0184, \tTest Accuracy: 79.86 % \n",
            "\n",
            "Train Epoch: 7 [0/50000 (0%)]\tTrain Loss: 0.359526\n",
            "Train Epoch: 7 [6400/50000 (13%)]\tTrain Loss: 0.256639\n",
            "Train Epoch: 7 [12800/50000 (26%)]\tTrain Loss: 0.375001\n",
            "Train Epoch: 7 [19200/50000 (38%)]\tTrain Loss: 0.476321\n",
            "Train Epoch: 7 [25600/50000 (51%)]\tTrain Loss: 0.487300\n",
            "Train Epoch: 7 [32000/50000 (64%)]\tTrain Loss: 0.672020\n",
            "Train Epoch: 7 [38400/50000 (77%)]\tTrain Loss: 0.650522\n",
            "Train Epoch: 7 [44800/50000 (90%)]\tTrain Loss: 0.222288\n",
            "\n",
            "[EPOCH: 7], \tTest Loss: 0.0175, \tTest Accuracy: 80.82 % \n",
            "\n",
            "Train Epoch: 8 [0/50000 (0%)]\tTrain Loss: 0.409060\n",
            "Train Epoch: 8 [6400/50000 (13%)]\tTrain Loss: 0.412484\n",
            "Train Epoch: 8 [12800/50000 (26%)]\tTrain Loss: 0.298068\n",
            "Train Epoch: 8 [19200/50000 (38%)]\tTrain Loss: 0.352259\n",
            "Train Epoch: 8 [25600/50000 (51%)]\tTrain Loss: 0.519834\n",
            "Train Epoch: 8 [32000/50000 (64%)]\tTrain Loss: 0.659600\n",
            "Train Epoch: 8 [38400/50000 (77%)]\tTrain Loss: 0.427031\n",
            "Train Epoch: 8 [44800/50000 (90%)]\tTrain Loss: 0.523823\n",
            "\n",
            "[EPOCH: 8], \tTest Loss: 0.0164, \tTest Accuracy: 82.33 % \n",
            "\n",
            "Train Epoch: 9 [0/50000 (0%)]\tTrain Loss: 0.404862\n",
            "Train Epoch: 9 [6400/50000 (13%)]\tTrain Loss: 0.483554\n",
            "Train Epoch: 9 [12800/50000 (26%)]\tTrain Loss: 0.404410\n",
            "Train Epoch: 9 [19200/50000 (38%)]\tTrain Loss: 0.461837\n",
            "Train Epoch: 9 [25600/50000 (51%)]\tTrain Loss: 0.448821\n",
            "Train Epoch: 9 [32000/50000 (64%)]\tTrain Loss: 0.534294\n",
            "Train Epoch: 9 [38400/50000 (77%)]\tTrain Loss: 0.537607\n",
            "Train Epoch: 9 [44800/50000 (90%)]\tTrain Loss: 0.699998\n",
            "\n",
            "[EPOCH: 9], \tTest Loss: 0.0158, \tTest Accuracy: 82.47 % \n",
            "\n",
            "Train Epoch: 10 [0/50000 (0%)]\tTrain Loss: 0.581204\n",
            "Train Epoch: 10 [6400/50000 (13%)]\tTrain Loss: 0.384068\n",
            "Train Epoch: 10 [12800/50000 (26%)]\tTrain Loss: 0.541239\n",
            "Train Epoch: 10 [19200/50000 (38%)]\tTrain Loss: 0.385576\n",
            "Train Epoch: 10 [25600/50000 (51%)]\tTrain Loss: 0.401283\n",
            "Train Epoch: 10 [32000/50000 (64%)]\tTrain Loss: 0.437719\n",
            "Train Epoch: 10 [38400/50000 (77%)]\tTrain Loss: 0.556590\n",
            "Train Epoch: 10 [44800/50000 (90%)]\tTrain Loss: 0.454598\n",
            "\n",
            "[EPOCH: 10], \tTest Loss: 0.0156, \tTest Accuracy: 82.97 % \n",
            "\n"
          ],
          "name": "stdout"
        }
      ]
    }
  ]
}