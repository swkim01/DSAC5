{
  "nbformat": 4,
  "nbformat_minor": 0,
  "metadata": {
    "colab": {
      "name": "gg-7-PyTorch_MLP.ipynb",
      "provenance": [],
      "collapsed_sections": [],
      "authorship_tag": "ABX9TyMItz3Vxkx5dMo8ulVi4o8O"
    },
    "kernelspec": {
      "name": "python3",
      "display_name": "Python 3"
    }
  },
  "cells": [
    {
      "cell_type": "markdown",
      "metadata": {
        "id": "xh78cLIMyISz"
      },
      "source": [
        "## Pytorch MLP\r\n",
        "\r\n",
        "<table class=\"tfo-notebook-buttons\" align=\"left\">\r\n",
        "  <td>\r\n",
        "    <a target=\"_blank\" href=\"https://colab.research.google.com/github/swkim01/DSAC5/blob/main/gg-07-PyTorch_MLP.ipynb\"><img src=\"https://github.com/swkim01/DSAC5/raw/main/colab_logo_32px.png\" />구글 코랩에서 실행</a>\r\n",
        "  </td>\r\n",
        "  <td>\r\n",
        "    <a target=\"_blank\" href=\"https://github.com/swkim01/DSAC5/blob/main/gg-07-PyTorch_MLP.ipynb\"><img src=\"https://github.com/swkim01/DSAC5/raw/main/GitHub-Mark-32px.png\" />깃헙에서 소스 보기</a>\r\n",
        "  </td>\r\n",
        "</table>"
      ]
    },
    {
      "cell_type": "code",
      "metadata": {
        "id": "MAV4fcH90h-K"
      },
      "source": [
        "import torch\r\n",
        "import torch.nn as nn"
      ],
      "execution_count": null,
      "outputs": []
    },
    {
      "cell_type": "markdown",
      "metadata": {
        "id": "W9VtUv6Y0olF"
      },
      "source": [
        "GPU 연산이 가능하다면 GPU 연산을 하도록 하고, 랜덤 시드를 고정해준다."
      ]
    },
    {
      "cell_type": "code",
      "metadata": {
        "id": "vwgL0r830q8_"
      },
      "source": [
        "device = 'cuda' if torch.cuda.is_available() else 'cpu'\r\n",
        "\r\n",
        "# for reproducibility\r\n",
        "torch.manual_seed(777)\r\n",
        "if device == 'cuda':\r\n",
        "    torch.cuda.manual_seed_all(777)"
      ],
      "execution_count": null,
      "outputs": []
    },
    {
      "cell_type": "code",
      "metadata": {
        "id": "LZ1PoMgQx-YC"
      },
      "source": [
        ""
      ],
      "execution_count": null,
      "outputs": []
    },
    {
      "cell_type": "markdown",
      "metadata": {
        "id": "Z7RsFkOo0ux_"
      },
      "source": [
        "XOR 문제를 풀기 위한 입력과 출력을 정의해준다."
      ]
    },
    {
      "cell_type": "code",
      "metadata": {
        "id": "9eyT1mYe0z59"
      },
      "source": [
        "X = torch.FloatTensor([[0, 0], [0, 1], [1, 0], [1, 1]]).to(device)\r\n",
        "Y = torch.FloatTensor([[0], [1], [1], [0]]).to(device)"
      ],
      "execution_count": null,
      "outputs": []
    },
    {
      "cell_type": "markdown",
      "metadata": {
        "id": "H2NzMtvS03ue"
      },
      "source": [
        "이제 다층 퍼셉트론을 설계한다. 아래는 입력층, 은닉층1, 은닉층2, 은닉층3, 출력층을 가지는 은닉층이 3개인 인공 신경망이다."
      ]
    },
    {
      "cell_type": "code",
      "metadata": {
        "id": "IM5qsAVN06Sl"
      },
      "source": [
        "model = nn.Sequential(\r\n",
        "          nn.Linear(2, 10, bias=True), # input_layer = 2, hidden_layer1 = 10\r\n",
        "          nn.Sigmoid(),\r\n",
        "          nn.Linear(10, 10, bias=True), # hidden_layer1 = 10, hidden_layer2 = 10\r\n",
        "          nn.Sigmoid(),\r\n",
        "          nn.Linear(10, 10, bias=True), # hidden_layer2 = 10, hidden_layer3 = 10\r\n",
        "          nn.Sigmoid(),\r\n",
        "          nn.Linear(10, 1, bias=True), # hidden_layer3 = 10, output_layer = 1\r\n",
        "          nn.Sigmoid()\r\n",
        "          ).to(device)"
      ],
      "execution_count": null,
      "outputs": []
    },
    {
      "cell_type": "markdown",
      "metadata": {
        "id": "etQHTcnv1F0s"
      },
      "source": [
        "이제 비용 함수와 옵타마이저를 선언한다. nn.BCELoss()는 이진 분류에서 사용하는 크로스엔트로피 함수이다."
      ]
    },
    {
      "cell_type": "code",
      "metadata": {
        "id": "Bk5nigU51IAt"
      },
      "source": [
        "criterion = torch.nn.BCELoss().to(device)\r\n",
        "optimizer = torch.optim.SGD(model.parameters(), lr=1)  # modified learning rate from 0.1 to 1"
      ],
      "execution_count": null,
      "outputs": []
    },
    {
      "cell_type": "markdown",
      "metadata": {
        "id": "7VDlawDM1LG1"
      },
      "source": [
        "총 10,001번의 에포크를 수행한다. 각 에포크마다 역전파가 수행된다고 보면 된다.\r\n",
        "비용이 최소화 되는 방향으로 가중치와 편향이 업데이트 된다. 아래는 100배수의 에포크마다 비용이 줄어드는 과정을 보여준다.\r\n"
      ]
    },
    {
      "cell_type": "code",
      "metadata": {
        "colab": {
          "base_uri": "https://localhost:8080/"
        },
        "id": "HoZAZomg1ODV",
        "outputId": "d480444d-b26e-4df6-8294-5b227e6e0054"
      },
      "source": [
        "for epoch in range(10001):\r\n",
        "    optimizer.zero_grad()\r\n",
        "    # forward 연산\r\n",
        "    hypothesis = model(X)\r\n",
        "\r\n",
        "    # 비용 함수\r\n",
        "    cost = criterion(hypothesis, Y)\r\n",
        "    cost.backward()\r\n",
        "    optimizer.step()\r\n",
        "\r\n",
        "    # 100의 배수에 해당되는 에포크마다 비용을 출력\r\n",
        "    if epoch % 100 == 0:\r\n",
        "        print(epoch, cost.item())"
      ],
      "execution_count": null,
      "outputs": [
        {
          "output_type": "stream",
          "text": [
            "0 0.6948983669281006\n",
            "100 0.693155825138092\n",
            "200 0.6931535601615906\n",
            "300 0.6931513547897339\n",
            "400 0.6931493282318115\n",
            "500 0.6931473016738892\n",
            "600 0.6931453943252563\n",
            "700 0.6931434869766235\n",
            "800 0.6931416988372803\n",
            "900 0.6931397914886475\n",
            "1000 0.6931379437446594\n",
            "1100 0.6931361556053162\n",
            "1200 0.6931343078613281\n",
            "1300 0.6931324005126953\n",
            "1400 0.6931304931640625\n",
            "1500 0.6931284666061401\n",
            "1600 0.6931264400482178\n",
            "1700 0.6931242942810059\n",
            "1800 0.6931220293045044\n",
            "1900 0.6931197047233582\n",
            "2000 0.6931172013282776\n",
            "2100 0.6931145191192627\n",
            "2200 0.6931115984916687\n",
            "2300 0.6931084990501404\n",
            "2400 0.6931051015853882\n",
            "2500 0.6931014657020569\n",
            "2600 0.6930974721908569\n",
            "2700 0.6930930018424988\n",
            "2800 0.6930879950523376\n",
            "2900 0.6930825114250183\n",
            "3000 0.6930762529373169\n",
            "3100 0.6930692195892334\n",
            "3200 0.6930611729621887\n",
            "3300 0.6930519342422485\n",
            "3400 0.6930411458015442\n",
            "3500 0.6930283904075623\n",
            "3600 0.6930132508277893\n",
            "3700 0.6929951310157776\n",
            "3800 0.6929728984832764\n",
            "3900 0.6929452419281006\n",
            "4000 0.6929103136062622\n",
            "4100 0.6928649544715881\n",
            "4200 0.6928046941757202\n",
            "4300 0.692721962928772\n",
            "4400 0.6926040649414062\n",
            "4500 0.6924278140068054\n",
            "4600 0.6921480298042297\n",
            "4700 0.6916665434837341\n",
            "4800 0.690739631652832\n",
            "4900 0.6886204481124878\n",
            "5000 0.6820822358131409\n",
            "5100 0.6472561359405518\n",
            "5200 0.4511455297470093\n",
            "5300 0.0417914092540741\n",
            "5400 0.00976566132158041\n",
            "5500 0.005042724311351776\n",
            "5600 0.003299684962257743\n",
            "5700 0.0024178465828299522\n",
            "5800 0.0018926756456494331\n",
            "5900 0.0015468898927792907\n",
            "6000 0.0013032691786065698\n",
            "6100 0.0011230817763134837\n",
            "6200 0.0009846779284998775\n",
            "6300 0.0008753472939133644\n",
            "6400 0.0007869074470363557\n",
            "6500 0.0007139394292607903\n",
            "6600 0.0006528611993417144\n",
            "6700 0.0006009416538290679\n",
            "6800 0.0005563456215895712\n",
            "6900 0.0005176705890335143\n",
            "7000 0.0004838125314563513\n",
            "7100 0.00045392123865894973\n",
            "7200 0.0004273701924830675\n",
            "7300 0.0004036074969917536\n",
            "7400 0.0003822603903245181\n",
            "7500 0.0003629559651017189\n",
            "7600 0.0003454257966950536\n",
            "7700 0.00032946106512099504\n",
            "7800 0.0003148381656501442\n",
            "7900 0.00030137813882902265\n",
            "8000 0.00028903622296638787\n",
            "8100 0.0002775738830678165\n",
            "8200 0.0002669761888682842\n",
            "8300 0.00025713874492794275\n",
            "8400 0.0002479125396348536\n",
            "8500 0.00023935710487421602\n",
            "8600 0.00023135324590839446\n",
            "8700 0.00022382638417184353\n",
            "8800 0.00021674673189409077\n",
            "8900 0.0002101142454193905\n",
            "9000 0.0002038097009062767\n",
            "9100 0.00019787781639024615\n",
            "9200 0.00019228874589316547\n",
            "9300 0.00018698288477025926\n",
            "9400 0.00018196026212535799\n",
            "9500 0.00017717608716338873\n",
            "9600 0.00017263043264392763\n",
            "9700 0.0001683083246462047\n",
            "9800 0.00016420979227405041\n",
            "9900 0.00016027523088268936\n",
            "10000 0.00015648972475901246\n"
          ],
          "name": "stdout"
        }
      ]
    },
    {
      "cell_type": "markdown",
      "metadata": {
        "id": "TN5FlSsq1gvt"
      },
      "source": [
        "비용이 최소화 되는 방향으로 가중치와 편향이 업데이트 된다. 아래는 100배수의 에포크마다 비용이 줄어드는 과정을 보여준다.\r\n"
      ]
    },
    {
      "cell_type": "code",
      "metadata": {
        "colab": {
          "base_uri": "https://localhost:8080/"
        },
        "id": "zSKL48t41jqV",
        "outputId": "f2b18cbf-2adc-4ebc-8efd-fb0842b7e92e"
      },
      "source": [
        "with torch.no_grad():\r\n",
        "    hypothesis = model(X)\r\n",
        "    predicted = (hypothesis > 0.5).float()\r\n",
        "    accuracy = (predicted == Y).float().mean()\r\n",
        "    print('모델의 출력값(Hypothesis): ', hypothesis.detach().cpu().numpy())\r\n",
        "    print('모델의 예측값(Predicted): ', predicted.detach().cpu().numpy())\r\n",
        "    print('실제값(Y): ', Y.cpu().numpy())\r\n",
        "    print('정확도(Accuracy): ', accuracy.item())"
      ],
      "execution_count": null,
      "outputs": [
        {
          "output_type": "stream",
          "text": [
            "모델의 출력값(Hypothesis):  [[1.1168801e-04]\n",
            " [9.9982882e-01]\n",
            " [9.9984229e-01]\n",
            " [1.8529482e-04]]\n",
            "모델의 예측값(Predicted):  [[0.]\n",
            " [1.]\n",
            " [1.]\n",
            " [0.]]\n",
            "실제값(Y):  [[0.]\n",
            " [1.]\n",
            " [1.]\n",
            " [0.]]\n",
            "정확도(Accuracy):  1.0\n"
          ],
          "name": "stdout"
        }
      ]
    }
  ]
}