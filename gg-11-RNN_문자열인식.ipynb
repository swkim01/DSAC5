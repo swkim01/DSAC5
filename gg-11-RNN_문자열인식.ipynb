{
  "nbformat": 4,
  "nbformat_minor": 0,
  "metadata": {
    "colab": {
      "name": "gg-11-RNN_문자열인식.ipynb",
      "provenance": [],
      "collapsed_sections": []
    },
    "kernelspec": {
      "name": "python3",
      "display_name": "Python 3"
    },
    "accelerator": "GPU"
  },
  "cells": [
    {
      "cell_type": "markdown",
      "metadata": {
        "id": "kY1zqagt5QUD"
      },
      "source": [
        "## RNN 문자열인식\r\n",
        "\r\n",
        "<table class=\"tfo-notebook-buttons\" align=\"left\">\r\n",
        "  <td>\r\n",
        "    <a target=\"_blank\" href=\"https://colab.research.google.com/github/swkim01/DSAC5/blob/main/gg-11-RNN_문자열인식.ipynb\"><img src=\"https://github.com/swkim01/DSAC5/raw/main/colab_logo_32px.png\" />구글 코랩에서 실행</a>\r\n",
        "  </td>\r\n",
        "  <td>\r\n",
        "    <a target=\"_blank\" href=\"https://github.com/swkim01/DSAC5/blob/main/gg-11-RNN_문자열인식.ipynb\"><img src=\"https://github.com/swkim01/DSAC5/raw/main/GitHub-Mark-32px.png\" />깃헙에서 소스 보기</a>\r\n",
        "  </td>\r\n",
        "</table>"
      ]
    },
    {
      "cell_type": "code",
      "metadata": {
        "id": "QCJ2I1lq7dRm"
      },
      "source": [
        "import torch\r\n",
        "import torch.optim as optim\r\n",
        "import numpy as np"
      ],
      "execution_count": null,
      "outputs": []
    },
    {
      "cell_type": "code",
      "metadata": {
        "id": "NFvypeq27kOs"
      },
      "source": [
        "torch.manual_seed(0)\r\n",
        "\r\n",
        "sample = \" if you want you\""
      ],
      "execution_count": null,
      "outputs": []
    },
    {
      "cell_type": "code",
      "metadata": {
        "id": "fRkF9nJn7xld"
      },
      "source": [
        "char_set = list(set(sample))\r\n",
        "char_dic = {c: i for i, c in enumerate(char_set)}"
      ],
      "execution_count": null,
      "outputs": []
    },
    {
      "cell_type": "code",
      "metadata": {
        "id": "SIQN99Fh7zGH"
      },
      "source": [
        "dic_size = len(char_dic)\r\n",
        "hidden_size = len(char_dic)\r\n",
        "learning_rate = 0.1"
      ],
      "execution_count": null,
      "outputs": []
    },
    {
      "cell_type": "code",
      "metadata": {
        "id": "iILKSiZn70Lt"
      },
      "source": [
        "sample_idx = [char_dic[c] for c in sample]\r\n",
        "x_data = [sample_idx[:-1]]\r\n",
        "x_one_hot = [np.eye(dic_size)[x] for x in x_data]\r\n",
        "y_data = [sample_idx[1:]]"
      ],
      "execution_count": null,
      "outputs": []
    },
    {
      "cell_type": "code",
      "metadata": {
        "id": "XDN9QIXD71Sc"
      },
      "source": [
        "X = torch.FloatTensor(x_one_hot)\r\n",
        "Y = torch.LongTensor(y_data)"
      ],
      "execution_count": null,
      "outputs": []
    },
    {
      "cell_type": "code",
      "metadata": {
        "id": "6HEuXLgq79uN"
      },
      "source": [
        "rnn = torch.nn.RNN(dic_size, hidden_size, batch_first=True)\r\n",
        "\r\n",
        "# loss & optimizer setting\r\n",
        "criterion = torch.nn.CrossEntropyLoss()\r\n",
        "optimizer = optim.Adam(rnn.parameters(), learning_rate)"
      ],
      "execution_count": null,
      "outputs": []
    },
    {
      "cell_type": "code",
      "metadata": {
        "colab": {
          "base_uri": "https://localhost:8080/"
        },
        "id": "6Ygq63yH7_MF",
        "outputId": "b1e8b143-76fb-4420-daa3-1e8b5050f1e1"
      },
      "source": [
        "for i in range(50):\r\n",
        "    optimizer.zero_grad()\r\n",
        "    outputs, _status = rnn(X)\r\n",
        "    loss = criterion(outputs.view(-1, dic_size), Y.view(-1))\r\n",
        "    loss.backward()\r\n",
        "    optimizer.step()\r\n",
        "\r\n",
        "    result = outputs.data.numpy().argmax(axis=2)\r\n",
        "    result_str = ''.join([char_set[c] for c in np.squeeze(result)])\r\n",
        "    print(i, \"loss: \", loss.item(), \"prediction: \", result, \"true Y: \", y_data, \"prediction str: \", result_str)\r\n"
      ],
      "execution_count": null,
      "outputs": [
        {
          "output_type": "stream",
          "text": [
            "0 loss:  2.26143479347229 prediction:  [[8 5 8 6 7 8 7 0 8 7 7 0 0 7 8]] true Y:  [[0, 2, 9, 3, 1, 6, 9, 8, 4, 5, 7, 9, 3, 1, 6]] prediction str:  wnwutwtiwttiitw\n",
            "1 loss:  1.9107862710952759 prediction:  [[1 1 9 3 1 6 9 8 1 8 7 9 1 7 6]] true Y:  [[0, 2, 9, 3, 1, 6, 9, 8, 4, 5, 7, 9, 3, 1, 6]] prediction str:  oo you wowt otu\n",
            "2 loss:  1.665370225906372 prediction:  [[3 1 8 3 1 6 9 8 4 8 7 9 3 1 6]] true Y:  [[0, 2, 9, 3, 1, 6, 9, 8, 4, 5, 7, 9, 3, 1, 6]] prediction str:  yowyou wawt you\n",
            "3 loss:  1.5116721391677856 prediction:  [[3 1 8 3 1 6 9 8 4 8 7 9 3 1 6]] true Y:  [[0, 2, 9, 3, 1, 6, 9, 8, 4, 5, 7, 9, 3, 1, 6]] prediction str:  yowyou wawt you\n",
            "4 loss:  1.3858959674835205 prediction:  [[3 2 9 3 1 6 9 8 4 5 7 9 3 1 6]] true Y:  [[0, 2, 9, 3, 1, 6, 9, 8, 4, 5, 7, 9, 3, 1, 6]] prediction str:  yf you want you\n",
            "5 loss:  1.2709953784942627 prediction:  [[3 2 9 3 1 6 9 8 4 5 7 9 3 1 6]] true Y:  [[0, 2, 9, 3, 1, 6, 9, 8, 4, 5, 7, 9, 3, 1, 6]] prediction str:  yf you want you\n",
            "6 loss:  1.2045516967773438 prediction:  [[3 2 9 3 1 6 9 6 4 5 7 9 3 1 6]] true Y:  [[0, 2, 9, 3, 1, 6, 9, 8, 4, 5, 7, 9, 3, 1, 6]] prediction str:  yf you uant you\n",
            "7 loss:  1.1327844858169556 prediction:  [[3 2 9 3 1 6 9 8 4 5 7 9 3 1 6]] true Y:  [[0, 2, 9, 3, 1, 6, 9, 8, 4, 5, 7, 9, 3, 1, 6]] prediction str:  yf you want you\n",
            "8 loss:  1.0879839658737183 prediction:  [[0 2 9 3 1 6 9 8 4 5 7 9 3 1 6]] true Y:  [[0, 2, 9, 3, 1, 6, 9, 8, 4, 5, 7, 9, 3, 1, 6]] prediction str:  if you want you\n",
            "9 loss:  1.0552207231521606 prediction:  [[0 2 9 3 1 6 9 8 4 5 7 9 3 1 6]] true Y:  [[0, 2, 9, 3, 1, 6, 9, 8, 4, 5, 7, 9, 3, 1, 6]] prediction str:  if you want you\n",
            "10 loss:  1.0185935497283936 prediction:  [[0 2 9 3 1 6 9 8 4 5 7 9 3 1 6]] true Y:  [[0, 2, 9, 3, 1, 6, 9, 8, 4, 5, 7, 9, 3, 1, 6]] prediction str:  if you want you\n",
            "11 loss:  0.9816194176673889 prediction:  [[0 2 9 3 1 6 9 8 4 5 7 9 3 1 6]] true Y:  [[0, 2, 9, 3, 1, 6, 9, 8, 4, 5, 7, 9, 3, 1, 6]] prediction str:  if you want you\n",
            "12 loss:  0.9520301222801208 prediction:  [[0 2 9 3 1 6 9 8 4 5 7 9 3 1 6]] true Y:  [[0, 2, 9, 3, 1, 6, 9, 8, 4, 5, 7, 9, 3, 1, 6]] prediction str:  if you want you\n",
            "13 loss:  0.934062659740448 prediction:  [[0 2 9 3 1 6 9 8 4 5 7 9 3 1 6]] true Y:  [[0, 2, 9, 3, 1, 6, 9, 8, 4, 5, 7, 9, 3, 1, 6]] prediction str:  if you want you\n",
            "14 loss:  0.9162469506263733 prediction:  [[0 2 9 3 1 6 9 8 4 5 7 9 3 1 6]] true Y:  [[0, 2, 9, 3, 1, 6, 9, 8, 4, 5, 7, 9, 3, 1, 6]] prediction str:  if you want you\n",
            "15 loss:  0.9004493951797485 prediction:  [[0 2 9 3 1 6 9 8 4 5 7 9 3 1 6]] true Y:  [[0, 2, 9, 3, 1, 6, 9, 8, 4, 5, 7, 9, 3, 1, 6]] prediction str:  if you want you\n",
            "16 loss:  0.8901771903038025 prediction:  [[0 2 9 3 1 6 9 8 4 5 7 9 3 1 6]] true Y:  [[0, 2, 9, 3, 1, 6, 9, 8, 4, 5, 7, 9, 3, 1, 6]] prediction str:  if you want you\n",
            "17 loss:  0.8803627490997314 prediction:  [[0 2 9 3 1 6 9 8 4 5 7 9 3 1 6]] true Y:  [[0, 2, 9, 3, 1, 6, 9, 8, 4, 5, 7, 9, 3, 1, 6]] prediction str:  if you want you\n",
            "18 loss:  0.8703165650367737 prediction:  [[0 2 9 3 1 6 9 8 4 5 7 9 3 1 6]] true Y:  [[0, 2, 9, 3, 1, 6, 9, 8, 4, 5, 7, 9, 3, 1, 6]] prediction str:  if you want you\n",
            "19 loss:  0.862898051738739 prediction:  [[0 2 9 3 1 6 9 8 4 5 7 9 3 1 6]] true Y:  [[0, 2, 9, 3, 1, 6, 9, 8, 4, 5, 7, 9, 3, 1, 6]] prediction str:  if you want you\n",
            "20 loss:  0.8574395775794983 prediction:  [[0 2 9 3 1 6 9 8 4 5 7 9 3 1 6]] true Y:  [[0, 2, 9, 3, 1, 6, 9, 8, 4, 5, 7, 9, 3, 1, 6]] prediction str:  if you want you\n",
            "21 loss:  0.8522074818611145 prediction:  [[0 2 9 3 1 6 9 8 4 5 7 9 3 1 6]] true Y:  [[0, 2, 9, 3, 1, 6, 9, 8, 4, 5, 7, 9, 3, 1, 6]] prediction str:  if you want you\n",
            "22 loss:  0.8471285104751587 prediction:  [[0 2 9 3 1 6 9 8 4 5 7 9 3 1 6]] true Y:  [[0, 2, 9, 3, 1, 6, 9, 8, 4, 5, 7, 9, 3, 1, 6]] prediction str:  if you want you\n",
            "23 loss:  0.8429940938949585 prediction:  [[0 2 9 3 1 6 9 8 4 5 7 9 3 1 6]] true Y:  [[0, 2, 9, 3, 1, 6, 9, 8, 4, 5, 7, 9, 3, 1, 6]] prediction str:  if you want you\n",
            "24 loss:  0.839687705039978 prediction:  [[0 2 9 3 1 6 9 8 4 5 7 9 3 1 6]] true Y:  [[0, 2, 9, 3, 1, 6, 9, 8, 4, 5, 7, 9, 3, 1, 6]] prediction str:  if you want you\n",
            "25 loss:  0.8367396593093872 prediction:  [[0 2 9 3 1 6 9 8 4 5 7 9 3 1 6]] true Y:  [[0, 2, 9, 3, 1, 6, 9, 8, 4, 5, 7, 9, 3, 1, 6]] prediction str:  if you want you\n",
            "26 loss:  0.8341743350028992 prediction:  [[0 2 9 3 1 6 9 8 4 5 7 9 3 1 6]] true Y:  [[0, 2, 9, 3, 1, 6, 9, 8, 4, 5, 7, 9, 3, 1, 6]] prediction str:  if you want you\n",
            "27 loss:  0.8318483233451843 prediction:  [[0 2 9 3 1 6 9 8 4 5 7 9 3 1 6]] true Y:  [[0, 2, 9, 3, 1, 6, 9, 8, 4, 5, 7, 9, 3, 1, 6]] prediction str:  if you want you\n",
            "28 loss:  0.8295736908912659 prediction:  [[0 2 9 3 1 6 9 8 4 5 7 9 3 1 6]] true Y:  [[0, 2, 9, 3, 1, 6, 9, 8, 4, 5, 7, 9, 3, 1, 6]] prediction str:  if you want you\n",
            "29 loss:  0.8275536894798279 prediction:  [[0 2 9 3 1 6 9 8 4 5 7 9 3 1 6]] true Y:  [[0, 2, 9, 3, 1, 6, 9, 8, 4, 5, 7, 9, 3, 1, 6]] prediction str:  if you want you\n",
            "30 loss:  0.8259502053260803 prediction:  [[0 2 9 3 1 6 9 8 4 5 7 9 3 1 6]] true Y:  [[0, 2, 9, 3, 1, 6, 9, 8, 4, 5, 7, 9, 3, 1, 6]] prediction str:  if you want you\n",
            "31 loss:  0.8246077299118042 prediction:  [[0 2 9 3 1 6 9 8 4 5 7 9 3 1 6]] true Y:  [[0, 2, 9, 3, 1, 6, 9, 8, 4, 5, 7, 9, 3, 1, 6]] prediction str:  if you want you\n",
            "32 loss:  0.8235082030296326 prediction:  [[0 2 9 3 1 6 9 8 4 5 7 9 3 1 6]] true Y:  [[0, 2, 9, 3, 1, 6, 9, 8, 4, 5, 7, 9, 3, 1, 6]] prediction str:  if you want you\n",
            "33 loss:  0.8225774168968201 prediction:  [[0 2 9 3 1 6 9 8 4 5 7 9 3 1 6]] true Y:  [[0, 2, 9, 3, 1, 6, 9, 8, 4, 5, 7, 9, 3, 1, 6]] prediction str:  if you want you\n",
            "34 loss:  0.8216534852981567 prediction:  [[0 2 9 3 1 6 9 8 4 5 7 9 3 1 6]] true Y:  [[0, 2, 9, 3, 1, 6, 9, 8, 4, 5, 7, 9, 3, 1, 6]] prediction str:  if you want you\n",
            "35 loss:  0.8207730054855347 prediction:  [[0 2 9 3 1 6 9 8 4 5 7 9 3 1 6]] true Y:  [[0, 2, 9, 3, 1, 6, 9, 8, 4, 5, 7, 9, 3, 1, 6]] prediction str:  if you want you\n",
            "36 loss:  0.8199987411499023 prediction:  [[0 2 9 3 1 6 9 8 4 5 7 9 3 1 6]] true Y:  [[0, 2, 9, 3, 1, 6, 9, 8, 4, 5, 7, 9, 3, 1, 6]] prediction str:  if you want you\n",
            "37 loss:  0.8192674517631531 prediction:  [[0 2 9 3 1 6 9 8 4 5 7 9 3 1 6]] true Y:  [[0, 2, 9, 3, 1, 6, 9, 8, 4, 5, 7, 9, 3, 1, 6]] prediction str:  if you want you\n",
            "38 loss:  0.8186545968055725 prediction:  [[0 2 9 3 1 6 9 8 4 5 7 9 3 1 6]] true Y:  [[0, 2, 9, 3, 1, 6, 9, 8, 4, 5, 7, 9, 3, 1, 6]] prediction str:  if you want you\n",
            "39 loss:  0.8181570172309875 prediction:  [[0 2 9 3 1 6 9 8 4 5 7 9 3 1 6]] true Y:  [[0, 2, 9, 3, 1, 6, 9, 8, 4, 5, 7, 9, 3, 1, 6]] prediction str:  if you want you\n",
            "40 loss:  0.817676305770874 prediction:  [[0 2 9 3 1 6 9 8 4 5 7 9 3 1 6]] true Y:  [[0, 2, 9, 3, 1, 6, 9, 8, 4, 5, 7, 9, 3, 1, 6]] prediction str:  if you want you\n",
            "41 loss:  0.8172482252120972 prediction:  [[0 2 9 3 1 6 9 8 4 5 7 9 3 1 6]] true Y:  [[0, 2, 9, 3, 1, 6, 9, 8, 4, 5, 7, 9, 3, 1, 6]] prediction str:  if you want you\n",
            "42 loss:  0.8168202638626099 prediction:  [[0 2 9 3 1 6 9 8 4 5 7 9 3 1 6]] true Y:  [[0, 2, 9, 3, 1, 6, 9, 8, 4, 5, 7, 9, 3, 1, 6]] prediction str:  if you want you\n",
            "43 loss:  0.8163707852363586 prediction:  [[0 2 9 3 1 6 9 8 4 5 7 9 3 1 6]] true Y:  [[0, 2, 9, 3, 1, 6, 9, 8, 4, 5, 7, 9, 3, 1, 6]] prediction str:  if you want you\n",
            "44 loss:  0.8159715533256531 prediction:  [[0 2 9 3 1 6 9 8 4 5 7 9 3 1 6]] true Y:  [[0, 2, 9, 3, 1, 6, 9, 8, 4, 5, 7, 9, 3, 1, 6]] prediction str:  if you want you\n",
            "45 loss:  0.8155812621116638 prediction:  [[0 2 9 3 1 6 9 8 4 5 7 9 3 1 6]] true Y:  [[0, 2, 9, 3, 1, 6, 9, 8, 4, 5, 7, 9, 3, 1, 6]] prediction str:  if you want you\n",
            "46 loss:  0.8152367472648621 prediction:  [[0 2 9 3 1 6 9 8 4 5 7 9 3 1 6]] true Y:  [[0, 2, 9, 3, 1, 6, 9, 8, 4, 5, 7, 9, 3, 1, 6]] prediction str:  if you want you\n",
            "47 loss:  0.8149324059486389 prediction:  [[0 2 9 3 1 6 9 8 4 5 7 9 3 1 6]] true Y:  [[0, 2, 9, 3, 1, 6, 9, 8, 4, 5, 7, 9, 3, 1, 6]] prediction str:  if you want you\n",
            "48 loss:  0.8146276473999023 prediction:  [[0 2 9 3 1 6 9 8 4 5 7 9 3 1 6]] true Y:  [[0, 2, 9, 3, 1, 6, 9, 8, 4, 5, 7, 9, 3, 1, 6]] prediction str:  if you want you\n",
            "49 loss:  0.8143512606620789 prediction:  [[0 2 9 3 1 6 9 8 4 5 7 9 3 1 6]] true Y:  [[0, 2, 9, 3, 1, 6, 9, 8, 4, 5, 7, 9, 3, 1, 6]] prediction str:  if you want you\n"
          ],
          "name": "stdout"
        }
      ]
    }
  ]
}