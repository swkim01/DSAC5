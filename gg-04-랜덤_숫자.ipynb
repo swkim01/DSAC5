{
  "nbformat": 4,
  "nbformat_minor": 0,
  "metadata": {
    "kernelspec": {
      "display_name": "Python 3",
      "language": "python",
      "name": "python3"
    },
    "language_info": {
      "codemirror_mode": {
        "name": "ipython",
        "version": 3
      },
      "file_extension": ".py",
      "mimetype": "text/x-python",
      "name": "python",
      "nbconvert_exporter": "python",
      "pygments_lexer": "ipython3",
      "version": "3.7.4"
    },
    "colab": {
      "name": "gg-04-랜덤 숫자.ipynb",
      "provenance": [],
      "collapsed_sections": []
    }
  },
  "cells": [
    {
      "cell_type": "markdown",
      "metadata": {
        "id": "oPrpRZLn0PTN"
      },
      "source": [
        "###<h1>랜덤 숫자</h1>\r\n",
        "\r\n",
        "<table class=\"tfo-notebook-buttons\" align=\"left\">\r\n",
        "  <td>\r\n",
        "    <a target=\"_blank\" href=\"https://colab.research.google.com/github/swkim01/DSAC5/blob/main/gg-04-랜덤_숫자.ipynb\"><img src=\"https://github.com/swkim01/DSAC5/raw/main/colab_logo_32px.png\" />구글 코랩에서 실행</a>\r\n",
        "  </td>\r\n",
        "  <td>\r\n",
        "    <a target=\"_blank\" href=\"https://github.com/swkim01/DSAC5/blob/main/gg-04-랜덤_숫자.ipynb\"><img src=\"https://github.com/swkim01/DSAC5/raw/main/GitHub-Mark-32px.png\" />깃헙에서 소스 보기</a>\r\n",
        "  </td>\r\n",
        "</table>"
      ]
    },
    {
      "cell_type": "markdown",
      "metadata": {
        "id": "9824X4pg0PTN"
      },
      "source": [
        "<h3>torch.rand()를 이용하여 텐서를 선언 및 정의해보도록 한다.</h3>"
      ]
    },
    {
      "cell_type": "code",
      "metadata": {
        "id": "7g4-2sNc0PTO"
      },
      "source": [
        "import torch"
      ],
      "execution_count": null,
      "outputs": []
    },
    {
      "cell_type": "code",
      "metadata": {
        "id": "ueE--w2B0PTO",
        "colab": {
          "base_uri": "https://localhost:8080/"
        },
        "outputId": "aea8249e-94cc-42d2-e19c-20412a480c40"
      },
      "source": [
        "x=torch.rand(5,3)\n",
        "print(x)"
      ],
      "execution_count": null,
      "outputs": [
        {
          "output_type": "stream",
          "text": [
            "tensor([[0.9285, 0.0890, 0.4854],\n",
            "        [0.1947, 0.5324, 0.7082],\n",
            "        [0.9977, 0.1228, 0.1113],\n",
            "        [0.2439, 0.5388, 0.6615],\n",
            "        [0.5458, 0.4885, 0.7219]])\n"
          ],
          "name": "stdout"
        }
      ]
    },
    {
      "cell_type": "markdown",
      "metadata": {
        "id": "ItbbeNDn0PTO"
      },
      "source": [
        "<h3>torch.randn()을 이용하여 텐서를 선언 및 정의해보도록 한다.</h3>"
      ]
    },
    {
      "cell_type": "code",
      "metadata": {
        "id": "11RUq6cn0PTO",
        "colab": {
          "base_uri": "https://localhost:8080/"
        },
        "outputId": "a3e45c22-22b5-4ea8-8c49-5cfe61fce5fb"
      },
      "source": [
        "x=torch.randn(5,3)\n",
        "print(x)"
      ],
      "execution_count": null,
      "outputs": [
        {
          "output_type": "stream",
          "text": [
            "tensor([[ 0.6429, -0.4246, -0.9209],\n",
            "        [-0.2372, -1.7259, -1.4450],\n",
            "        [ 1.1668, -0.2880, -0.1320],\n",
            "        [ 0.2527,  1.1105,  0.9496],\n",
            "        [-1.0006, -0.8042, -0.6634]])\n"
          ],
          "name": "stdout"
        }
      ]
    }
  ]
}