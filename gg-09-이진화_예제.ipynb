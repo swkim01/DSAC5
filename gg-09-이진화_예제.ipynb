{
  "nbformat": 4,
  "nbformat_minor": 0,
  "metadata": {
    "kernelspec": {
      "display_name": "Python 3",
      "language": "python",
      "name": "python3"
    },
    "language_info": {
      "codemirror_mode": {
        "name": "ipython",
        "version": 3
      },
      "file_extension": ".py",
      "mimetype": "text/x-python",
      "name": "python",
      "nbconvert_exporter": "python",
      "pygments_lexer": "ipython3",
      "version": "3.7.1"
    },
    "colab": {
      "name": "gg-09-이진화 예제.ipynb",
      "provenance": [],
      "collapsed_sections": []
    }
  },
  "cells": [
    {
      "cell_type": "markdown",
      "metadata": {
        "id": "rSv0h_ho1RBl"
      },
      "source": [
        "<h1>이진화 예제</h1>\r\n",
        "\r\n",
        "<table class=\"tfo-notebook-buttons\" align=\"left\">\r\n",
        "  <td>\r\n",
        "    <a target=\"_blank\" href=\"https://colab.research.google.com/github/swkim01/DSAC5/blob/main/gg-09-이진화_예제.ipynb\"><img src=\"https://github.com/swkim01/DSAC5/raw/main/colab_logo_32px.png\" />구글 코랩에서 실행</a>\r\n",
        "  </td>\r\n",
        "  <td>\r\n",
        "    <a target=\"_blank\" href=\"https://github.com/swkim01/DSAC5/blob/main/gg-09-이진화_예제.ipynb\"><img src=\"https://github.com/swkim01/DSAC5/raw/main/GitHub-Mark-32px.png\" />깃헙에서 소스 보기</a>\r\n",
        "  </td>\r\n",
        "</table>"
      ]
    },
    {
      "cell_type": "markdown",
      "metadata": {
        "id": "IYANch2s1RBl"
      },
      "source": [
        "• THRESH_BINARY는 임계값을 넘는 픽셀은 maxVal로 변경한다. <br>&nbsp;&nbsp;&nbsp;&nbsp;그렇지 않으면 0이 되며, THRESH_BINARY_INV는 THRESH_BINARY의 반대 작업을 한다.<br>&nbsp;&nbsp;&nbsp;&nbsp;즉, 임계값을 넘는 픽셀은 0이 되고 그렇지 않으면 maxVal이 된다. <br>&nbsp;&nbsp;&nbsp;&nbsp;즉 물체 영역은 0, 배경은 255로 만들 수 있다.<br>\n",
        "• THRESH_TRUNC는 화소들의 최대값을 thresh로 만든다.<br>&nbsp;&nbsp;&nbsp;&nbsp;즉 픽셀이 thresh보다 크면 thresh로 자르고 그렇지 않으면 화소의 값은 변경되지 않는다.<br>\n",
        "• THRESH_TOZERO는 픽셀이 thresh보다 크면 값이 유지된다.<br>&nbsp;&nbsp;&nbsp;&nbsp;그렇지 않으면 0으로 된다.<br>\n",
        "• THRESH_TOZERO_INV는 픽셀이 thresh보다 크면 0이 된다.<br>&nbsp;&nbsp;&nbsp;&nbsp;그렇지 않으면 값을 유지한다.<br>"
      ]
    },
    {
      "cell_type": "markdown",
      "metadata": {
        "id": "-7pAUAqo1URY"
      },
      "source": [
        "시작전에 예제 파일의 gradient.png를 코랩 환경의 '/content/sample_data'로 업로드해준다."
      ]
    },
    {
      "cell_type": "code",
      "metadata": {
        "colab": {
          "base_uri": "https://localhost:8080/",
          "height": 267
        },
        "id": "KXDdh_Sz1RBl",
        "outputId": "ee5bf995-16a6-4ac6-b370-bc60686f94eb"
      },
      "source": [
        "import cv2 as cv\n",
        "import numpy as np\n",
        "from matplotlib import pyplot as plt\n",
        "img = cv.imread('/content/sample_data/gradient.png',0)\n",
        "ret,thresh1 = cv.threshold(img,127,255,cv.THRESH_BINARY)\n",
        "ret,thresh2 = cv.threshold(img,127,255,cv.THRESH_BINARY_INV)\n",
        "ret,thresh3 = cv.threshold(img,127,255,cv.THRESH_TRUNC)\n",
        "ret,thresh4 = cv.threshold(img,127,255,cv.THRESH_TOZERO)\n",
        "ret,thresh5 = cv.threshold(img,127,255,cv.THRESH_TOZERO_INV)\n",
        "titles = ['Original Image','BINARY','BINARY_INV','TRUNC','TOZERO','TOZERO_INV']\n",
        "images = [img, thresh1, thresh2, thresh3, thresh4, thresh5]\n",
        "for i in range(6):\n",
        "    plt.subplot(2,3,i+1)\n",
        "    plt.imshow(images[i],'gray')\n",
        "    plt.title(titles[i])\n",
        "    plt.xticks([]),plt.yticks([])\n",
        "plt.show()"
      ],
      "execution_count": null,
      "outputs": [
        {
          "output_type": "display_data",
          "data": {
            "image/png": "[encoded data removed]",
            "text/plain": [
              "<Figure size 432x288 with 6 Axes>"
            ]
          },
          "metadata": {
            "tags": []
          }
        }
      ]
    },
    {
      "cell_type": "code",
      "metadata": {
        "id": "8owK8ZBn1RBm"
      },
      "source": [
        ""
      ],
      "execution_count": null,
      "outputs": []
    }
  ]
}