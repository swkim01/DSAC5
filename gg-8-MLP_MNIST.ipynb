{
  "nbformat": 4,
  "nbformat_minor": 0,
  "metadata": {
    "kernelspec": {
      "display_name": "Python 3",
      "language": "python",
      "name": "python3"
    },
    "language_info": {
      "codemirror_mode": {
        "name": "ipython",
        "version": 3
      },
      "file_extension": ".py",
      "mimetype": "text/x-python",
      "name": "python",
      "nbconvert_exporter": "python",
      "pygments_lexer": "ipython3",
      "version": "3.6.8"
    },
    "colab": {
      "name": "gg-8-MLP_MNIST.ipynb",
      "provenance": [],
      "collapsed_sections": []
    },
    "widgets": {
      "application/vnd.jupyter.widget-state+json": {
        "9f2c53e55f434e268690a5931fc6e983": {
          "model_module": "@jupyter-widgets/controls",
          "model_name": "HBoxModel",
          "state": {
            "_view_name": "HBoxView",
            "_dom_classes": [],
            "_model_name": "HBoxModel",
            "_view_module": "@jupyter-widgets/controls",
            "_model_module_version": "1.5.0",
            "_view_count": null,
            "_view_module_version": "1.5.0",
            "box_style": "",
            "layout": "IPY_MODEL_5d727a1485764299900fe120dccf35e1",
            "_model_module": "@jupyter-widgets/controls",
            "children": [
              "IPY_MODEL_5e84275d60214acd84809ed8baf6d1db",
              "IPY_MODEL_b05ed91eb5094ab79873b7c7b16b8845"
            ]
          }
        },
        "5d727a1485764299900fe120dccf35e1": {
          "model_module": "@jupyter-widgets/base",
          "model_name": "LayoutModel",
          "state": {
            "_view_name": "LayoutView",
            "grid_template_rows": null,
            "right": null,
            "justify_content": null,
            "_view_module": "@jupyter-widgets/base",
            "overflow": null,
            "_model_module_version": "1.2.0",
            "_view_count": null,
            "flex_flow": null,
            "width": null,
            "min_width": null,
            "border": null,
            "align_items": null,
            "bottom": null,
            "_model_module": "@jupyter-widgets/base",
            "top": null,
            "grid_column": null,
            "overflow_y": null,
            "overflow_x": null,
            "grid_auto_flow": null,
            "grid_area": null,
            "grid_template_columns": null,
            "flex": null,
            "_model_name": "LayoutModel",
            "justify_items": null,
            "grid_row": null,
            "max_height": null,
            "align_content": null,
            "visibility": null,
            "align_self": null,
            "height": null,
            "min_height": null,
            "padding": null,
            "grid_auto_rows": null,
            "grid_gap": null,
            "max_width": null,
            "order": null,
            "_view_module_version": "1.2.0",
            "grid_template_areas": null,
            "object_position": null,
            "object_fit": null,
            "grid_auto_columns": null,
            "margin": null,
            "display": null,
            "left": null
          }
        },
        "5e84275d60214acd84809ed8baf6d1db": {
          "model_module": "@jupyter-widgets/controls",
          "model_name": "FloatProgressModel",
          "state": {
            "_view_name": "ProgressView",
            "style": "IPY_MODEL_5c972c2d9d084b8ab97184a2e98e2de5",
            "_dom_classes": [],
            "description": "",
            "_model_name": "FloatProgressModel",
            "bar_style": "success",
            "max": 1,
            "_view_module": "@jupyter-widgets/controls",
            "_model_module_version": "1.5.0",
            "value": 1,
            "_view_count": null,
            "_view_module_version": "1.5.0",
            "orientation": "horizontal",
            "min": 0,
            "description_tooltip": null,
            "_model_module": "@jupyter-widgets/controls",
            "layout": "IPY_MODEL_f050322735c54d1390aba750592b7034"
          }
        },
        "b05ed91eb5094ab79873b7c7b16b8845": {
          "model_module": "@jupyter-widgets/controls",
          "model_name": "HTMLModel",
          "state": {
            "_view_name": "HTMLView",
            "style": "IPY_MODEL_365c113703f84383a9e093b3a7c459f6",
            "_dom_classes": [],
            "description": "",
            "_model_name": "HTMLModel",
            "placeholder": "​",
            "_view_module": "@jupyter-widgets/controls",
            "_model_module_version": "1.5.0",
            "value": " 9920512/? [00:05&lt;00:00, 1804481.25it/s]",
            "_view_count": null,
            "_view_module_version": "1.5.0",
            "description_tooltip": null,
            "_model_module": "@jupyter-widgets/controls",
            "layout": "IPY_MODEL_2dc6f4cccefc407aba09e5c147eea405"
          }
        },
        "5c972c2d9d084b8ab97184a2e98e2de5": {
          "model_module": "@jupyter-widgets/controls",
          "model_name": "ProgressStyleModel",
          "state": {
            "_view_name": "StyleView",
            "_model_name": "ProgressStyleModel",
            "description_width": "initial",
            "_view_module": "@jupyter-widgets/base",
            "_model_module_version": "1.5.0",
            "_view_count": null,
            "_view_module_version": "1.2.0",
            "bar_color": null,
            "_model_module": "@jupyter-widgets/controls"
          }
        },
        "f050322735c54d1390aba750592b7034": {
          "model_module": "@jupyter-widgets/base",
          "model_name": "LayoutModel",
          "state": {
            "_view_name": "LayoutView",
            "grid_template_rows": null,
            "right": null,
            "justify_content": null,
            "_view_module": "@jupyter-widgets/base",
            "overflow": null,
            "_model_module_version": "1.2.0",
            "_view_count": null,
            "flex_flow": null,
            "width": null,
            "min_width": null,
            "border": null,
            "align_items": null,
            "bottom": null,
            "_model_module": "@jupyter-widgets/base",
            "top": null,
            "grid_column": null,
            "overflow_y": null,
            "overflow_x": null,
            "grid_auto_flow": null,
            "grid_area": null,
            "grid_template_columns": null,
            "flex": null,
            "_model_name": "LayoutModel",
            "justify_items": null,
            "grid_row": null,
            "max_height": null,
            "align_content": null,
            "visibility": null,
            "align_self": null,
            "height": null,
            "min_height": null,
            "padding": null,
            "grid_auto_rows": null,
            "grid_gap": null,
            "max_width": null,
            "order": null,
            "_view_module_version": "1.2.0",
            "grid_template_areas": null,
            "object_position": null,
            "object_fit": null,
            "grid_auto_columns": null,
            "margin": null,
            "display": null,
            "left": null
          }
        },
        "365c113703f84383a9e093b3a7c459f6": {
          "model_module": "@jupyter-widgets/controls",
          "model_name": "DescriptionStyleModel",
          "state": {
            "_view_name": "StyleView",
            "_model_name": "DescriptionStyleModel",
            "description_width": "",
            "_view_module": "@jupyter-widgets/base",
            "_model_module_version": "1.5.0",
            "_view_count": null,
            "_view_module_version": "1.2.0",
            "_model_module": "@jupyter-widgets/controls"
          }
        },
        "2dc6f4cccefc407aba09e5c147eea405": {
          "model_module": "@jupyter-widgets/base",
          "model_name": "LayoutModel",
          "state": {
            "_view_name": "LayoutView",
            "grid_template_rows": null,
            "right": null,
            "justify_content": null,
            "_view_module": "@jupyter-widgets/base",
            "overflow": null,
            "_model_module_version": "1.2.0",
            "_view_count": null,
            "flex_flow": null,
            "width": null,
            "min_width": null,
            "border": null,
            "align_items": null,
            "bottom": null,
            "_model_module": "@jupyter-widgets/base",
            "top": null,
            "grid_column": null,
            "overflow_y": null,
            "overflow_x": null,
            "grid_auto_flow": null,
            "grid_area": null,
            "grid_template_columns": null,
            "flex": null,
            "_model_name": "LayoutModel",
            "justify_items": null,
            "grid_row": null,
            "max_height": null,
            "align_content": null,
            "visibility": null,
            "align_self": null,
            "height": null,
            "min_height": null,
            "padding": null,
            "grid_auto_rows": null,
            "grid_gap": null,
            "max_width": null,
            "order": null,
            "_view_module_version": "1.2.0",
            "grid_template_areas": null,
            "object_position": null,
            "object_fit": null,
            "grid_auto_columns": null,
            "margin": null,
            "display": null,
            "left": null
          }
        },
        "f20b71306b1246bf83acab23299c2ff2": {
          "model_module": "@jupyter-widgets/controls",
          "model_name": "HBoxModel",
          "state": {
            "_view_name": "HBoxView",
            "_dom_classes": [],
            "_model_name": "HBoxModel",
            "_view_module": "@jupyter-widgets/controls",
            "_model_module_version": "1.5.0",
            "_view_count": null,
            "_view_module_version": "1.5.0",
            "box_style": "",
            "layout": "IPY_MODEL_5b657801ab7241a8bb97620a12fb39cc",
            "_model_module": "@jupyter-widgets/controls",
            "children": [
              "IPY_MODEL_73ab350e509f4cafb1ae6f03cfe2be67",
              "IPY_MODEL_b4979efcc1ca4629bb24cfb74c51761e"
            ]
          }
        },
        "5b657801ab7241a8bb97620a12fb39cc": {
          "model_module": "@jupyter-widgets/base",
          "model_name": "LayoutModel",
          "state": {
            "_view_name": "LayoutView",
            "grid_template_rows": null,
            "right": null,
            "justify_content": null,
            "_view_module": "@jupyter-widgets/base",
            "overflow": null,
            "_model_module_version": "1.2.0",
            "_view_count": null,
            "flex_flow": null,
            "width": null,
            "min_width": null,
            "border": null,
            "align_items": null,
            "bottom": null,
            "_model_module": "@jupyter-widgets/base",
            "top": null,
            "grid_column": null,
            "overflow_y": null,
            "overflow_x": null,
            "grid_auto_flow": null,
            "grid_area": null,
            "grid_template_columns": null,
            "flex": null,
            "_model_name": "LayoutModel",
            "justify_items": null,
            "grid_row": null,
            "max_height": null,
            "align_content": null,
            "visibility": null,
            "align_self": null,
            "height": null,
            "min_height": null,
            "padding": null,
            "grid_auto_rows": null,
            "grid_gap": null,
            "max_width": null,
            "order": null,
            "_view_module_version": "1.2.0",
            "grid_template_areas": null,
            "object_position": null,
            "object_fit": null,
            "grid_auto_columns": null,
            "margin": null,
            "display": null,
            "left": null
          }
        },
        "73ab350e509f4cafb1ae6f03cfe2be67": {
          "model_module": "@jupyter-widgets/controls",
          "model_name": "FloatProgressModel",
          "state": {
            "_view_name": "ProgressView",
            "style": "IPY_MODEL_6041b0aef7a34ec89f4cd40dd9dbd39c",
            "_dom_classes": [],
            "description": "",
            "_model_name": "FloatProgressModel",
            "bar_style": "success",
            "max": 1,
            "_view_module": "@jupyter-widgets/controls",
            "_model_module_version": "1.5.0",
            "value": 1,
            "_view_count": null,
            "_view_module_version": "1.5.0",
            "orientation": "horizontal",
            "min": 0,
            "description_tooltip": null,
            "_model_module": "@jupyter-widgets/controls",
            "layout": "IPY_MODEL_00ca56d58788461f91b5e667d15c9db3"
          }
        },
        "b4979efcc1ca4629bb24cfb74c51761e": {
          "model_module": "@jupyter-widgets/controls",
          "model_name": "HTMLModel",
          "state": {
            "_view_name": "HTMLView",
            "style": "IPY_MODEL_b5aa1bae38e04f93bb3c0b4feef1fbed",
            "_dom_classes": [],
            "description": "",
            "_model_name": "HTMLModel",
            "placeholder": "​",
            "_view_module": "@jupyter-widgets/controls",
            "_model_module_version": "1.5.0",
            "value": " 32768/? [00:04&lt;00:00, 7196.80it/s]",
            "_view_count": null,
            "_view_module_version": "1.5.0",
            "description_tooltip": null,
            "_model_module": "@jupyter-widgets/controls",
            "layout": "IPY_MODEL_0f5b158efaa6486586d7fe8a8ceee54b"
          }
        },
        "6041b0aef7a34ec89f4cd40dd9dbd39c": {
          "model_module": "@jupyter-widgets/controls",
          "model_name": "ProgressStyleModel",
          "state": {
            "_view_name": "StyleView",
            "_model_name": "ProgressStyleModel",
            "description_width": "initial",
            "_view_module": "@jupyter-widgets/base",
            "_model_module_version": "1.5.0",
            "_view_count": null,
            "_view_module_version": "1.2.0",
            "bar_color": null,
            "_model_module": "@jupyter-widgets/controls"
          }
        },
        "00ca56d58788461f91b5e667d15c9db3": {
          "model_module": "@jupyter-widgets/base",
          "model_name": "LayoutModel",
          "state": {
            "_view_name": "LayoutView",
            "grid_template_rows": null,
            "right": null,
            "justify_content": null,
            "_view_module": "@jupyter-widgets/base",
            "overflow": null,
            "_model_module_version": "1.2.0",
            "_view_count": null,
            "flex_flow": null,
            "width": null,
            "min_width": null,
            "border": null,
            "align_items": null,
            "bottom": null,
            "_model_module": "@jupyter-widgets/base",
            "top": null,
            "grid_column": null,
            "overflow_y": null,
            "overflow_x": null,
            "grid_auto_flow": null,
            "grid_area": null,
            "grid_template_columns": null,
            "flex": null,
            "_model_name": "LayoutModel",
            "justify_items": null,
            "grid_row": null,
            "max_height": null,
            "align_content": null,
            "visibility": null,
            "align_self": null,
            "height": null,
            "min_height": null,
            "padding": null,
            "grid_auto_rows": null,
            "grid_gap": null,
            "max_width": null,
            "order": null,
            "_view_module_version": "1.2.0",
            "grid_template_areas": null,
            "object_position": null,
            "object_fit": null,
            "grid_auto_columns": null,
            "margin": null,
            "display": null,
            "left": null
          }
        },
        "b5aa1bae38e04f93bb3c0b4feef1fbed": {
          "model_module": "@jupyter-widgets/controls",
          "model_name": "DescriptionStyleModel",
          "state": {
            "_view_name": "StyleView",
            "_model_name": "DescriptionStyleModel",
            "description_width": "",
            "_view_module": "@jupyter-widgets/base",
            "_model_module_version": "1.5.0",
            "_view_count": null,
            "_view_module_version": "1.2.0",
            "_model_module": "@jupyter-widgets/controls"
          }
        },
        "0f5b158efaa6486586d7fe8a8ceee54b": {
          "model_module": "@jupyter-widgets/base",
          "model_name": "LayoutModel",
          "state": {
            "_view_name": "LayoutView",
            "grid_template_rows": null,
            "right": null,
            "justify_content": null,
            "_view_module": "@jupyter-widgets/base",
            "overflow": null,
            "_model_module_version": "1.2.0",
            "_view_count": null,
            "flex_flow": null,
            "width": null,
            "min_width": null,
            "border": null,
            "align_items": null,
            "bottom": null,
            "_model_module": "@jupyter-widgets/base",
            "top": null,
            "grid_column": null,
            "overflow_y": null,
            "overflow_x": null,
            "grid_auto_flow": null,
            "grid_area": null,
            "grid_template_columns": null,
            "flex": null,
            "_model_name": "LayoutModel",
            "justify_items": null,
            "grid_row": null,
            "max_height": null,
            "align_content": null,
            "visibility": null,
            "align_self": null,
            "height": null,
            "min_height": null,
            "padding": null,
            "grid_auto_rows": null,
            "grid_gap": null,
            "max_width": null,
            "order": null,
            "_view_module_version": "1.2.0",
            "grid_template_areas": null,
            "object_position": null,
            "object_fit": null,
            "grid_auto_columns": null,
            "margin": null,
            "display": null,
            "left": null
          }
        },
        "86df8b9100274998a0b5951cbf53bd0d": {
          "model_module": "@jupyter-widgets/controls",
          "model_name": "HBoxModel",
          "state": {
            "_view_name": "HBoxView",
            "_dom_classes": [],
            "_model_name": "HBoxModel",
            "_view_module": "@jupyter-widgets/controls",
            "_model_module_version": "1.5.0",
            "_view_count": null,
            "_view_module_version": "1.5.0",
            "box_style": "",
            "layout": "IPY_MODEL_a17390ad4c86415fa07d8444b1aa158a",
            "_model_module": "@jupyter-widgets/controls",
            "children": [
              "IPY_MODEL_6cbe9a8c94674dee8d8aa7624770fd74",
              "IPY_MODEL_ab951b1009b442fb923065364cb68520"
            ]
          }
        },
        "a17390ad4c86415fa07d8444b1aa158a": {
          "model_module": "@jupyter-widgets/base",
          "model_name": "LayoutModel",
          "state": {
            "_view_name": "LayoutView",
            "grid_template_rows": null,
            "right": null,
            "justify_content": null,
            "_view_module": "@jupyter-widgets/base",
            "overflow": null,
            "_model_module_version": "1.2.0",
            "_view_count": null,
            "flex_flow": null,
            "width": null,
            "min_width": null,
            "border": null,
            "align_items": null,
            "bottom": null,
            "_model_module": "@jupyter-widgets/base",
            "top": null,
            "grid_column": null,
            "overflow_y": null,
            "overflow_x": null,
            "grid_auto_flow": null,
            "grid_area": null,
            "grid_template_columns": null,
            "flex": null,
            "_model_name": "LayoutModel",
            "justify_items": null,
            "grid_row": null,
            "max_height": null,
            "align_content": null,
            "visibility": null,
            "align_self": null,
            "height": null,
            "min_height": null,
            "padding": null,
            "grid_auto_rows": null,
            "grid_gap": null,
            "max_width": null,
            "order": null,
            "_view_module_version": "1.2.0",
            "grid_template_areas": null,
            "object_position": null,
            "object_fit": null,
            "grid_auto_columns": null,
            "margin": null,
            "display": null,
            "left": null
          }
        },
        "6cbe9a8c94674dee8d8aa7624770fd74": {
          "model_module": "@jupyter-widgets/controls",
          "model_name": "FloatProgressModel",
          "state": {
            "_view_name": "ProgressView",
            "style": "IPY_MODEL_8fecfeb77690486a9d8d7d5530eef561",
            "_dom_classes": [],
            "description": "",
            "_model_name": "FloatProgressModel",
            "bar_style": "success",
            "max": 1,
            "_view_module": "@jupyter-widgets/controls",
            "_model_module_version": "1.5.0",
            "value": 1,
            "_view_count": null,
            "_view_module_version": "1.5.0",
            "orientation": "horizontal",
            "min": 0,
            "description_tooltip": null,
            "_model_module": "@jupyter-widgets/controls",
            "layout": "IPY_MODEL_55d95363f23e473ba74c6e2c3e4c50b9"
          }
        },
        "ab951b1009b442fb923065364cb68520": {
          "model_module": "@jupyter-widgets/controls",
          "model_name": "HTMLModel",
          "state": {
            "_view_name": "HTMLView",
            "style": "IPY_MODEL_b3728478b0fa4e2a80397e82e2cb5200",
            "_dom_classes": [],
            "description": "",
            "_model_name": "HTMLModel",
            "placeholder": "​",
            "_view_module": "@jupyter-widgets/controls",
            "_model_module_version": "1.5.0",
            "value": " 1654784/? [00:04&lt;00:00, 383440.28it/s]",
            "_view_count": null,
            "_view_module_version": "1.5.0",
            "description_tooltip": null,
            "_model_module": "@jupyter-widgets/controls",
            "layout": "IPY_MODEL_3f60404872da41c5abf4f6b872838409"
          }
        },
        "8fecfeb77690486a9d8d7d5530eef561": {
          "model_module": "@jupyter-widgets/controls",
          "model_name": "ProgressStyleModel",
          "state": {
            "_view_name": "StyleView",
            "_model_name": "ProgressStyleModel",
            "description_width": "initial",
            "_view_module": "@jupyter-widgets/base",
            "_model_module_version": "1.5.0",
            "_view_count": null,
            "_view_module_version": "1.2.0",
            "bar_color": null,
            "_model_module": "@jupyter-widgets/controls"
          }
        },
        "55d95363f23e473ba74c6e2c3e4c50b9": {
          "model_module": "@jupyter-widgets/base",
          "model_name": "LayoutModel",
          "state": {
            "_view_name": "LayoutView",
            "grid_template_rows": null,
            "right": null,
            "justify_content": null,
            "_view_module": "@jupyter-widgets/base",
            "overflow": null,
            "_model_module_version": "1.2.0",
            "_view_count": null,
            "flex_flow": null,
            "width": null,
            "min_width": null,
            "border": null,
            "align_items": null,
            "bottom": null,
            "_model_module": "@jupyter-widgets/base",
            "top": null,
            "grid_column": null,
            "overflow_y": null,
            "overflow_x": null,
            "grid_auto_flow": null,
            "grid_area": null,
            "grid_template_columns": null,
            "flex": null,
            "_model_name": "LayoutModel",
            "justify_items": null,
            "grid_row": null,
            "max_height": null,
            "align_content": null,
            "visibility": null,
            "align_self": null,
            "height": null,
            "min_height": null,
            "padding": null,
            "grid_auto_rows": null,
            "grid_gap": null,
            "max_width": null,
            "order": null,
            "_view_module_version": "1.2.0",
            "grid_template_areas": null,
            "object_position": null,
            "object_fit": null,
            "grid_auto_columns": null,
            "margin": null,
            "display": null,
            "left": null
          }
        },
        "b3728478b0fa4e2a80397e82e2cb5200": {
          "model_module": "@jupyter-widgets/controls",
          "model_name": "DescriptionStyleModel",
          "state": {
            "_view_name": "StyleView",
            "_model_name": "DescriptionStyleModel",
            "description_width": "",
            "_view_module": "@jupyter-widgets/base",
            "_model_module_version": "1.5.0",
            "_view_count": null,
            "_view_module_version": "1.2.0",
            "_model_module": "@jupyter-widgets/controls"
          }
        },
        "3f60404872da41c5abf4f6b872838409": {
          "model_module": "@jupyter-widgets/base",
          "model_name": "LayoutModel",
          "state": {
            "_view_name": "LayoutView",
            "grid_template_rows": null,
            "right": null,
            "justify_content": null,
            "_view_module": "@jupyter-widgets/base",
            "overflow": null,
            "_model_module_version": "1.2.0",
            "_view_count": null,
            "flex_flow": null,
            "width": null,
            "min_width": null,
            "border": null,
            "align_items": null,
            "bottom": null,
            "_model_module": "@jupyter-widgets/base",
            "top": null,
            "grid_column": null,
            "overflow_y": null,
            "overflow_x": null,
            "grid_auto_flow": null,
            "grid_area": null,
            "grid_template_columns": null,
            "flex": null,
            "_model_name": "LayoutModel",
            "justify_items": null,
            "grid_row": null,
            "max_height": null,
            "align_content": null,
            "visibility": null,
            "align_self": null,
            "height": null,
            "min_height": null,
            "padding": null,
            "grid_auto_rows": null,
            "grid_gap": null,
            "max_width": null,
            "order": null,
            "_view_module_version": "1.2.0",
            "grid_template_areas": null,
            "object_position": null,
            "object_fit": null,
            "grid_auto_columns": null,
            "margin": null,
            "display": null,
            "left": null
          }
        },
        "6dcd43df3d3a42c7be5d99ab22480fc5": {
          "model_module": "@jupyter-widgets/controls",
          "model_name": "HBoxModel",
          "state": {
            "_view_name": "HBoxView",
            "_dom_classes": [],
            "_model_name": "HBoxModel",
            "_view_module": "@jupyter-widgets/controls",
            "_model_module_version": "1.5.0",
            "_view_count": null,
            "_view_module_version": "1.5.0",
            "box_style": "",
            "layout": "IPY_MODEL_5d82dd3c91044c2ebd4efde1917d6801",
            "_model_module": "@jupyter-widgets/controls",
            "children": [
              "IPY_MODEL_f870bfa21b94455b8c2d3281faf9d9cc",
              "IPY_MODEL_02debcc1a1164ccfbeed03bd463ba328"
            ]
          }
        },
        "5d82dd3c91044c2ebd4efde1917d6801": {
          "model_module": "@jupyter-widgets/base",
          "model_name": "LayoutModel",
          "state": {
            "_view_name": "LayoutView",
            "grid_template_rows": null,
            "right": null,
            "justify_content": null,
            "_view_module": "@jupyter-widgets/base",
            "overflow": null,
            "_model_module_version": "1.2.0",
            "_view_count": null,
            "flex_flow": null,
            "width": null,
            "min_width": null,
            "border": null,
            "align_items": null,
            "bottom": null,
            "_model_module": "@jupyter-widgets/base",
            "top": null,
            "grid_column": null,
            "overflow_y": null,
            "overflow_x": null,
            "grid_auto_flow": null,
            "grid_area": null,
            "grid_template_columns": null,
            "flex": null,
            "_model_name": "LayoutModel",
            "justify_items": null,
            "grid_row": null,
            "max_height": null,
            "align_content": null,
            "visibility": null,
            "align_self": null,
            "height": null,
            "min_height": null,
            "padding": null,
            "grid_auto_rows": null,
            "grid_gap": null,
            "max_width": null,
            "order": null,
            "_view_module_version": "1.2.0",
            "grid_template_areas": null,
            "object_position": null,
            "object_fit": null,
            "grid_auto_columns": null,
            "margin": null,
            "display": null,
            "left": null
          }
        },
        "f870bfa21b94455b8c2d3281faf9d9cc": {
          "model_module": "@jupyter-widgets/controls",
          "model_name": "FloatProgressModel",
          "state": {
            "_view_name": "ProgressView",
            "style": "IPY_MODEL_d4aad37b99114334ba23d37e397e8490",
            "_dom_classes": [],
            "description": "",
            "_model_name": "FloatProgressModel",
            "bar_style": "success",
            "max": 1,
            "_view_module": "@jupyter-widgets/controls",
            "_model_module_version": "1.5.0",
            "value": 1,
            "_view_count": null,
            "_view_module_version": "1.5.0",
            "orientation": "horizontal",
            "min": 0,
            "description_tooltip": null,
            "_model_module": "@jupyter-widgets/controls",
            "layout": "IPY_MODEL_e5e6990e1ea641cbbfaec3deb0492979"
          }
        },
        "02debcc1a1164ccfbeed03bd463ba328": {
          "model_module": "@jupyter-widgets/controls",
          "model_name": "HTMLModel",
          "state": {
            "_view_name": "HTMLView",
            "style": "IPY_MODEL_e20b5cc5ba4746a99aae50fb337d515d",
            "_dom_classes": [],
            "description": "",
            "_model_name": "HTMLModel",
            "placeholder": "​",
            "_view_module": "@jupyter-widgets/controls",
            "_model_module_version": "1.5.0",
            "value": " 8192/? [00:03&lt;00:00, 2076.87it/s]",
            "_view_count": null,
            "_view_module_version": "1.5.0",
            "description_tooltip": null,
            "_model_module": "@jupyter-widgets/controls",
            "layout": "IPY_MODEL_b6ea1ec528134a469f65bf07b3abe0df"
          }
        },
        "d4aad37b99114334ba23d37e397e8490": {
          "model_module": "@jupyter-widgets/controls",
          "model_name": "ProgressStyleModel",
          "state": {
            "_view_name": "StyleView",
            "_model_name": "ProgressStyleModel",
            "description_width": "initial",
            "_view_module": "@jupyter-widgets/base",
            "_model_module_version": "1.5.0",
            "_view_count": null,
            "_view_module_version": "1.2.0",
            "bar_color": null,
            "_model_module": "@jupyter-widgets/controls"
          }
        },
        "e5e6990e1ea641cbbfaec3deb0492979": {
          "model_module": "@jupyter-widgets/base",
          "model_name": "LayoutModel",
          "state": {
            "_view_name": "LayoutView",
            "grid_template_rows": null,
            "right": null,
            "justify_content": null,
            "_view_module": "@jupyter-widgets/base",
            "overflow": null,
            "_model_module_version": "1.2.0",
            "_view_count": null,
            "flex_flow": null,
            "width": null,
            "min_width": null,
            "border": null,
            "align_items": null,
            "bottom": null,
            "_model_module": "@jupyter-widgets/base",
            "top": null,
            "grid_column": null,
            "overflow_y": null,
            "overflow_x": null,
            "grid_auto_flow": null,
            "grid_area": null,
            "grid_template_columns": null,
            "flex": null,
            "_model_name": "LayoutModel",
            "justify_items": null,
            "grid_row": null,
            "max_height": null,
            "align_content": null,
            "visibility": null,
            "align_self": null,
            "height": null,
            "min_height": null,
            "padding": null,
            "grid_auto_rows": null,
            "grid_gap": null,
            "max_width": null,
            "order": null,
            "_view_module_version": "1.2.0",
            "grid_template_areas": null,
            "object_position": null,
            "object_fit": null,
            "grid_auto_columns": null,
            "margin": null,
            "display": null,
            "left": null
          }
        },
        "e20b5cc5ba4746a99aae50fb337d515d": {
          "model_module": "@jupyter-widgets/controls",
          "model_name": "DescriptionStyleModel",
          "state": {
            "_view_name": "StyleView",
            "_model_name": "DescriptionStyleModel",
            "description_width": "",
            "_view_module": "@jupyter-widgets/base",
            "_model_module_version": "1.5.0",
            "_view_count": null,
            "_view_module_version": "1.2.0",
            "_model_module": "@jupyter-widgets/controls"
          }
        },
        "b6ea1ec528134a469f65bf07b3abe0df": {
          "model_module": "@jupyter-widgets/base",
          "model_name": "LayoutModel",
          "state": {
            "_view_name": "LayoutView",
            "grid_template_rows": null,
            "right": null,
            "justify_content": null,
            "_view_module": "@jupyter-widgets/base",
            "overflow": null,
            "_model_module_version": "1.2.0",
            "_view_count": null,
            "flex_flow": null,
            "width": null,
            "min_width": null,
            "border": null,
            "align_items": null,
            "bottom": null,
            "_model_module": "@jupyter-widgets/base",
            "top": null,
            "grid_column": null,
            "overflow_y": null,
            "overflow_x": null,
            "grid_auto_flow": null,
            "grid_area": null,
            "grid_template_columns": null,
            "flex": null,
            "_model_name": "LayoutModel",
            "justify_items": null,
            "grid_row": null,
            "max_height": null,
            "align_content": null,
            "visibility": null,
            "align_self": null,
            "height": null,
            "min_height": null,
            "padding": null,
            "grid_auto_rows": null,
            "grid_gap": null,
            "max_width": null,
            "order": null,
            "_view_module_version": "1.2.0",
            "grid_template_areas": null,
            "object_position": null,
            "object_fit": null,
            "grid_auto_columns": null,
            "margin": null,
            "display": null,
            "left": null
          }
        }
      }
    }
  },
  "cells": [
    {
      "cell_type": "markdown",
      "metadata": {
        "id": "-FCJ8L8JzIxF"
      },
      "source": [
        "## MLP MNIST\r\n",
        "\r\n",
        "<table class=\"tfo-notebook-buttons\" align=\"left\">\r\n",
        "  <td>\r\n",
        "    <a target=\"_blank\" href=\"https://colab.research.google.com/github/swkim01/DSAC5/blob/main/gg-8-MLP_MNIST.ipynb\"><img src=\"https://github.com/swkim01/DSAC5/raw/main/colab_logo_32px.png\" />구글 코랩에서 실행</a>\r\n",
        "  </td>\r\n",
        "  <td>\r\n",
        "    <a target=\"_blank\" href=\"https://github.com/swkim01/DSAC5/blob/main/gg-8-MLP_MNIST.ipynb\"><img src=\"https://github.com/swkim01/DSAC5/raw/main/GitHub-Mark-32px.png\" />깃헙에서 소스 보기</a>\r\n",
        "  </td>\r\n",
        "</table>"
      ]
    },
    {
      "cell_type": "code",
      "metadata": {
        "id": "Is-gzpoJ5Mnu"
      },
      "source": [
        "''' 1. Module Import '''\n",
        "import numpy as np\n",
        "import matplotlib.pyplot as plt\n",
        "\n",
        "import torch\n",
        "import torch.nn as nn\n",
        "import torch.nn.functional as F\n",
        "from torchvision import transforms, datasets"
      ],
      "execution_count": null,
      "outputs": []
    },
    {
      "cell_type": "code",
      "metadata": {
        "id": "bTYh-LTB5Mnu",
        "colab": {
          "base_uri": "https://localhost:8080/"
        },
        "outputId": "00013eb0-084d-4230-c82c-517d8f648f61"
      },
      "source": [
        "''' 2. 딥러닝 모델을 설계할 때 활용하는 장비 확인 '''\n",
        "if torch.cuda.is_available():\n",
        "    DEVICE = torch.device('cuda')\n",
        "else:\n",
        "    DEVICE = torch.device('cpu')\n",
        "\n",
        "print('Using PyTorch version:', torch.__version__, ' Device:', DEVICE)"
      ],
      "execution_count": null,
      "outputs": [
        {
          "output_type": "stream",
          "text": [
            "Using PyTorch version: 1.7.0+cu101  Device: cpu\n"
          ],
          "name": "stdout"
        }
      ]
    },
    {
      "cell_type": "code",
      "metadata": {
        "id": "q7v_IPol5Mnv"
      },
      "source": [
        "BATCH_SIZE = 32\n",
        "EPOCHS = 10"
      ],
      "execution_count": null,
      "outputs": []
    },
    {
      "cell_type": "code",
      "metadata": {
        "id": "Mk3u2ELw5Mnv",
        "colab": {
          "base_uri": "https://localhost:8080/",
          "height": 389,
          "referenced_widgets": [
            "9f2c53e55f434e268690a5931fc6e983",
            "5d727a1485764299900fe120dccf35e1",
            "5e84275d60214acd84809ed8baf6d1db",
            "b05ed91eb5094ab79873b7c7b16b8845",
            "5c972c2d9d084b8ab97184a2e98e2de5",
            "f050322735c54d1390aba750592b7034",
            "365c113703f84383a9e093b3a7c459f6",
            "2dc6f4cccefc407aba09e5c147eea405",
            "f20b71306b1246bf83acab23299c2ff2",
            "5b657801ab7241a8bb97620a12fb39cc",
            "73ab350e509f4cafb1ae6f03cfe2be67",
            "b4979efcc1ca4629bb24cfb74c51761e",
            "6041b0aef7a34ec89f4cd40dd9dbd39c",
            "00ca56d58788461f91b5e667d15c9db3",
            "b5aa1bae38e04f93bb3c0b4feef1fbed",
            "0f5b158efaa6486586d7fe8a8ceee54b",
            "86df8b9100274998a0b5951cbf53bd0d",
            "a17390ad4c86415fa07d8444b1aa158a",
            "6cbe9a8c94674dee8d8aa7624770fd74",
            "ab951b1009b442fb923065364cb68520",
            "8fecfeb77690486a9d8d7d5530eef561",
            "55d95363f23e473ba74c6e2c3e4c50b9",
            "b3728478b0fa4e2a80397e82e2cb5200",
            "3f60404872da41c5abf4f6b872838409",
            "6dcd43df3d3a42c7be5d99ab22480fc5",
            "5d82dd3c91044c2ebd4efde1917d6801",
            "f870bfa21b94455b8c2d3281faf9d9cc",
            "02debcc1a1164ccfbeed03bd463ba328",
            "d4aad37b99114334ba23d37e397e8490",
            "e5e6990e1ea641cbbfaec3deb0492979",
            "e20b5cc5ba4746a99aae50fb337d515d",
            "b6ea1ec528134a469f65bf07b3abe0df"
          ]
        },
        "outputId": "fd914f09-a72f-4783-8cf3-41aff0becc40"
      },
      "source": [
        "''' 3. MNIST 데이터 다운로드 (Train set, Test set 분리하기) '''\n",
        "train_dataset = datasets.MNIST(root = \"../data/MNIST\",\n",
        "                               train = True,\n",
        "                               download = True,\n",
        "                               transform = transforms.ToTensor())\n",
        "\n",
        "test_dataset = datasets.MNIST(root = \"../data/MNIST\",\n",
        "                              train = False,\n",
        "                              transform = transforms.ToTensor())\n",
        "\n",
        "train_loader = torch.utils.data.DataLoader(dataset = train_dataset,\n",
        "                                           batch_size = BATCH_SIZE,\n",
        "                                           shuffle = True)\n",
        "\n",
        "test_loader = torch.utils.data.DataLoader(dataset = test_dataset,\n",
        "                                          batch_size = BATCH_SIZE,\n",
        "                                          shuffle = False)"
      ],
      "execution_count": null,
      "outputs": [
        {
          "output_type": "stream",
          "text": [
            "Downloading http://yann.lecun.com/exdb/mnist/train-images-idx3-ubyte.gz to ../data/MNIST/MNIST/raw/train-images-idx3-ubyte.gz\n"
          ],
          "name": "stdout"
        },
        {
          "output_type": "display_data",
          "data": {
            "application/vnd.jupyter.widget-view+json": {
              "model_id": "9f2c53e55f434e268690a5931fc6e983",
              "version_minor": 0,
              "version_major": 2
            },
            "text/plain": [
              "HBox(children=(FloatProgress(value=1.0, bar_style='info', max=1.0), HTML(value='')))"
            ]
          },
          "metadata": {
            "tags": []
          }
        },
        {
          "output_type": "stream",
          "text": [
            "Extracting ../data/MNIST/MNIST/raw/train-images-idx3-ubyte.gz to ../data/MNIST/MNIST/raw\n",
            "Downloading http://yann.lecun.com/exdb/mnist/train-labels-idx1-ubyte.gz to ../data/MNIST/MNIST/raw/train-labels-idx1-ubyte.gz\n"
          ],
          "name": "stdout"
        },
        {
          "output_type": "display_data",
          "data": {
            "application/vnd.jupyter.widget-view+json": {
              "model_id": "f20b71306b1246bf83acab23299c2ff2",
              "version_minor": 0,
              "version_major": 2
            },
            "text/plain": [
              "HBox(children=(FloatProgress(value=1.0, bar_style='info', max=1.0), HTML(value='')))"
            ]
          },
          "metadata": {
            "tags": []
          }
        },
        {
          "output_type": "stream",
          "text": [
            "Extracting ../data/MNIST/MNIST/raw/train-labels-idx1-ubyte.gz to ../data/MNIST/MNIST/raw\n",
            "Downloading http://yann.lecun.com/exdb/mnist/t10k-images-idx3-ubyte.gz to ../data/MNIST/MNIST/raw/t10k-images-idx3-ubyte.gz\n"
          ],
          "name": "stdout"
        },
        {
          "output_type": "display_data",
          "data": {
            "application/vnd.jupyter.widget-view+json": {
              "model_id": "86df8b9100274998a0b5951cbf53bd0d",
              "version_minor": 0,
              "version_major": 2
            },
            "text/plain": [
              "HBox(children=(FloatProgress(value=1.0, bar_style='info', max=1.0), HTML(value='')))"
            ]
          },
          "metadata": {
            "tags": []
          }
        },
        {
          "output_type": "stream",
          "text": [
            "Extracting ../data/MNIST/MNIST/raw/t10k-images-idx3-ubyte.gz to ../data/MNIST/MNIST/raw\n",
            "Downloading http://yann.lecun.com/exdb/mnist/t10k-labels-idx1-ubyte.gz to ../data/MNIST/MNIST/raw/t10k-labels-idx1-ubyte.gz\n"
          ],
          "name": "stdout"
        },
        {
          "output_type": "display_data",
          "data": {
            "application/vnd.jupyter.widget-view+json": {
              "model_id": "6dcd43df3d3a42c7be5d99ab22480fc5",
              "version_minor": 0,
              "version_major": 2
            },
            "text/plain": [
              "HBox(children=(FloatProgress(value=1.0, bar_style='info', max=1.0), HTML(value='')))"
            ]
          },
          "metadata": {
            "tags": []
          }
        },
        {
          "output_type": "stream",
          "text": [
            "Extracting ../data/MNIST/MNIST/raw/t10k-labels-idx1-ubyte.gz to ../data/MNIST/MNIST/raw\n",
            "Processing...\n"
          ],
          "name": "stdout"
        },
        {
          "output_type": "stream",
          "text": [
            "/usr/local/lib/python3.6/dist-packages/torchvision/datasets/mnist.py:480: UserWarning: The given NumPy array is not writeable, and PyTorch does not support non-writeable tensors. This means you can write to the underlying (supposedly non-writeable) NumPy array using the tensor. You may want to copy the array to protect its data or make it writeable before converting it to a tensor. This type of warning will be suppressed for the rest of this program. (Triggered internally at  /pytorch/torch/csrc/utils/tensor_numpy.cpp:141.)\n",
            "  return torch.from_numpy(parsed.astype(m[2], copy=False)).view(*s)\n"
          ],
          "name": "stderr"
        },
        {
          "output_type": "stream",
          "text": [
            "Done!\n"
          ],
          "name": "stdout"
        }
      ]
    },
    {
      "cell_type": "code",
      "metadata": {
        "id": "WpEg5A4v5Mnv",
        "colab": {
          "base_uri": "https://localhost:8080/"
        },
        "outputId": "5d3656cb-a470-4234-e656-f1b833f3b5d2"
      },
      "source": [
        "''' 4. 데이터 확인하기 (1) '''\n",
        "for (X_train, y_train) in train_loader:\n",
        "    print('X_train:', X_train.size(), 'type:', X_train.type())\n",
        "    print('y_train:', y_train.size(), 'type:', y_train.type())\n",
        "    break"
      ],
      "execution_count": null,
      "outputs": [
        {
          "output_type": "stream",
          "text": [
            "X_train: torch.Size([32, 1, 28, 28]) type: torch.FloatTensor\n",
            "y_train: torch.Size([32]) type: torch.LongTensor\n"
          ],
          "name": "stdout"
        }
      ]
    },
    {
      "cell_type": "code",
      "metadata": {
        "id": "9iRATK5u5Mnv",
        "colab": {
          "base_uri": "https://localhost:8080/",
          "height": 169
        },
        "outputId": "dd39a002-7730-4864-e4cd-fea642a51ddc"
      },
      "source": [
        "''' 5. 데이터 확인하기 (2) '''\n",
        "pltsize = 1\n",
        "plt.figure(figsize=(10 * pltsize, pltsize))\n",
        "for i in range(10):\n",
        "    plt.subplot(1, 10, i + 1)\n",
        "    plt.axis('off')\n",
        "    plt.imshow(X_train[i, :, :, :].numpy().reshape(28, 28), cmap = \"gray_r\")\n",
        "    plt.title('Class: ' + str(y_train[i].item()))"
      ],
      "execution_count": null,
      "outputs": [
        {
          "output_type": "stream",
          "text": [
            "\n",
            "\n",
            "\n",
            "\n"
          ],
          "name": "stdout"
        },
        {
          "output_type": "display_data",
          "data": {
            "image/png": "[encoded data removed]",
            "text/plain": [
              "<Figure size 720x72 with 10 Axes>"
            ]
          },
          "metadata": {
            "tags": [],
            "needs_background": "light"
          }
        }
      ]
    },
    {
      "cell_type": "code",
      "metadata": {
        "id": "zBHPqlOF5Mnw"
      },
      "source": [
        "''' 6. Multi Layer Perceptron (MLP) 모델 설계하기 '''\n",
        "class Net(nn.Module):\n",
        "    def __init__(self):\n",
        "        super(Net, self).__init__()\n",
        "        self.fc1 = nn.Linear(28 * 28, 512)\n",
        "        self.fc2 = nn.Linear(512, 256)\n",
        "        self.fc3 = nn.Linear(256, 10)\n",
        "\n",
        "    def forward(self, x):\n",
        "        x = x.view(-1, 28 * 28)\n",
        "        x = self.fc1(x)\n",
        "        x = F.sigmoid(x)\n",
        "        x = self.fc2(x)\n",
        "        x = F.sigmoid(x)\n",
        "        x = self.fc3(x)\n",
        "        x = F.log_softmax(x, dim = 1)\n",
        "        return x"
      ],
      "execution_count": null,
      "outputs": []
    },
    {
      "cell_type": "code",
      "metadata": {
        "id": "eXy6KOW_5Mnw",
        "colab": {
          "base_uri": "https://localhost:8080/"
        },
        "outputId": "58b332a0-7568-4a57-ac37-ba50433b4144"
      },
      "source": [
        "''' 7. Optimizer, Objective Function 설정하기 '''\n",
        "model = Net().to(DEVICE)\n",
        "optimizer = torch.optim.SGD(model.parameters(), lr = 0.01, momentum = 0.5)\n",
        "criterion = nn.CrossEntropyLoss()\n",
        "\n",
        "print(model)"
      ],
      "execution_count": null,
      "outputs": [
        {
          "output_type": "stream",
          "text": [
            "Net(\n",
            "  (fc1): Linear(in_features=784, out_features=512, bias=True)\n",
            "  (fc2): Linear(in_features=512, out_features=256, bias=True)\n",
            "  (fc3): Linear(in_features=256, out_features=10, bias=True)\n",
            ")\n"
          ],
          "name": "stdout"
        }
      ]
    },
    {
      "cell_type": "code",
      "metadata": {
        "id": "8xkVhEE15Mnw"
      },
      "source": [
        "''' 8. MLP 모델 학습을 진행하며 학습 데이터에 대한 모델 성능을 확인하는 함수 정의 '''\n",
        "def train(model, train_loader, optimizer, log_interval):\n",
        "    model.train()\n",
        "    for batch_idx, (image, label) in enumerate(train_loader):\n",
        "        image = image.to(DEVICE)\n",
        "        label = label.to(DEVICE)\n",
        "        optimizer.zero_grad()\n",
        "        output = model(image)\n",
        "        loss = criterion(output, label)\n",
        "        loss.backward()\n",
        "        optimizer.step()\n",
        "\n",
        "        if batch_idx % log_interval == 0:\n",
        "            print(\"Train Epoch: {} [{}/{} ({:.0f}%)]\\tTrain Loss: {:.6f}\".format(\n",
        "                epoch, batch_idx * len(image), \n",
        "                len(train_loader.dataset), 100. * batch_idx / len(train_loader), \n",
        "                loss.item()))"
      ],
      "execution_count": null,
      "outputs": []
    },
    {
      "cell_type": "code",
      "metadata": {
        "id": "OZsB4I0p5Mnw"
      },
      "source": [
        "''' 9. 학습되는 과정 속에서 검증 데이터에 대한 모델 성능을 확인하는 함수 정의 '''\n",
        "def evaluate(model, test_loader):\n",
        "    model.eval()\n",
        "    test_loss = 0\n",
        "    correct = 0\n",
        "\n",
        "    with torch.no_grad():\n",
        "        for image, label in test_loader:\n",
        "            image = image.to(DEVICE)\n",
        "            label = label.to(DEVICE)\n",
        "            output = model(image)\n",
        "            test_loss += criterion(output, label).item()\n",
        "            prediction = output.max(1, keepdim = True)[1]\n",
        "            correct += prediction.eq(label.view_as(prediction)).sum().item()\n",
        "    \n",
        "    test_loss /= len(test_loader.dataset)\n",
        "    test_accuracy = 100. * correct / len(test_loader.dataset)\n",
        "    return test_loss, test_accuracy"
      ],
      "execution_count": null,
      "outputs": []
    },
    {
      "cell_type": "code",
      "metadata": {
        "id": "t8xXo-Hl5Mnw",
        "colab": {
          "base_uri": "https://localhost:8080/"
        },
        "outputId": "56bf8f74-a099-40b0-ffca-213065e24890"
      },
      "source": [
        "''' 10. MLP 학습 실행하며 Train, Test set의 Loss 및 Test set Accuracy 확인하기 '''\n",
        "for epoch in range(1, EPOCHS + 1):\n",
        "    train(model, train_loader, optimizer, log_interval = 200)\n",
        "    test_loss, test_accuracy = evaluate(model, test_loader)\n",
        "    print(\"\\n[EPOCH: {}], \\tTest Loss: {:.4f}, \\tTest Accuracy: {:.2f} % \\n\".format(\n",
        "        epoch, test_loss, test_accuracy))"
      ],
      "execution_count": null,
      "outputs": [
        {
          "output_type": "stream",
          "text": [
            "/usr/local/lib/python3.6/dist-packages/torch/nn/functional.py:1639: UserWarning: nn.functional.sigmoid is deprecated. Use torch.sigmoid instead.\n",
            "  warnings.warn(\"nn.functional.sigmoid is deprecated. Use torch.sigmoid instead.\")\n"
          ],
          "name": "stderr"
        },
        {
          "output_type": "stream",
          "text": [
            "Train Epoch: 1 [0/60000 (0%)]\tTrain Loss: 2.295487\n",
            "Train Epoch: 1 [6400/60000 (11%)]\tTrain Loss: 2.304722\n",
            "Train Epoch: 1 [12800/60000 (21%)]\tTrain Loss: 2.288839\n",
            "Train Epoch: 1 [19200/60000 (32%)]\tTrain Loss: 2.329106\n",
            "Train Epoch: 1 [25600/60000 (43%)]\tTrain Loss: 2.284679\n",
            "Train Epoch: 1 [32000/60000 (53%)]\tTrain Loss: 2.269005\n",
            "Train Epoch: 1 [38400/60000 (64%)]\tTrain Loss: 2.283582\n",
            "Train Epoch: 1 [44800/60000 (75%)]\tTrain Loss: 2.250798\n",
            "Train Epoch: 1 [51200/60000 (85%)]\tTrain Loss: 2.257855\n",
            "Train Epoch: 1 [57600/60000 (96%)]\tTrain Loss: 2.254299\n",
            "\n",
            "[EPOCH: 1], \tTest Loss: 0.0696, \tTest Accuracy: 29.22 % \n",
            "\n",
            "Train Epoch: 2 [0/60000 (0%)]\tTrain Loss: 2.202837\n",
            "Train Epoch: 2 [6400/60000 (11%)]\tTrain Loss: 2.157118\n",
            "Train Epoch: 2 [12800/60000 (21%)]\tTrain Loss: 2.207038\n",
            "Train Epoch: 2 [19200/60000 (32%)]\tTrain Loss: 2.028042\n",
            "Train Epoch: 2 [25600/60000 (43%)]\tTrain Loss: 2.059928\n",
            "Train Epoch: 2 [32000/60000 (53%)]\tTrain Loss: 1.607669\n",
            "Train Epoch: 2 [38400/60000 (64%)]\tTrain Loss: 1.711160\n",
            "Train Epoch: 2 [44800/60000 (75%)]\tTrain Loss: 1.518059\n",
            "Train Epoch: 2 [51200/60000 (85%)]\tTrain Loss: 1.394718\n",
            "Train Epoch: 2 [57600/60000 (96%)]\tTrain Loss: 1.309115\n",
            "\n",
            "[EPOCH: 2], \tTest Loss: 0.0386, \tTest Accuracy: 62.22 % \n",
            "\n",
            "Train Epoch: 3 [0/60000 (0%)]\tTrain Loss: 1.238150\n",
            "Train Epoch: 3 [6400/60000 (11%)]\tTrain Loss: 1.302810\n",
            "Train Epoch: 3 [12800/60000 (21%)]\tTrain Loss: 1.071459\n",
            "Train Epoch: 3 [19200/60000 (32%)]\tTrain Loss: 0.886413\n",
            "Train Epoch: 3 [25600/60000 (43%)]\tTrain Loss: 1.006204\n",
            "Train Epoch: 3 [32000/60000 (53%)]\tTrain Loss: 1.083074\n",
            "Train Epoch: 3 [38400/60000 (64%)]\tTrain Loss: 0.770251\n",
            "Train Epoch: 3 [44800/60000 (75%)]\tTrain Loss: 0.808297\n",
            "Train Epoch: 3 [51200/60000 (85%)]\tTrain Loss: 0.749256\n",
            "Train Epoch: 3 [57600/60000 (96%)]\tTrain Loss: 0.763298\n",
            "\n",
            "[EPOCH: 3], \tTest Loss: 0.0229, \tTest Accuracy: 78.15 % \n",
            "\n",
            "Train Epoch: 4 [0/60000 (0%)]\tTrain Loss: 0.620190\n",
            "Train Epoch: 4 [6400/60000 (11%)]\tTrain Loss: 0.877482\n",
            "Train Epoch: 4 [12800/60000 (21%)]\tTrain Loss: 0.553628\n",
            "Train Epoch: 4 [19200/60000 (32%)]\tTrain Loss: 0.534176\n",
            "Train Epoch: 4 [25600/60000 (43%)]\tTrain Loss: 0.839361\n",
            "Train Epoch: 4 [32000/60000 (53%)]\tTrain Loss: 0.446055\n",
            "Train Epoch: 4 [38400/60000 (64%)]\tTrain Loss: 0.430513\n",
            "Train Epoch: 4 [44800/60000 (75%)]\tTrain Loss: 0.659757\n",
            "Train Epoch: 4 [51200/60000 (85%)]\tTrain Loss: 0.397261\n",
            "Train Epoch: 4 [57600/60000 (96%)]\tTrain Loss: 0.548534\n",
            "\n",
            "[EPOCH: 4], \tTest Loss: 0.0169, \tTest Accuracy: 84.21 % \n",
            "\n",
            "Train Epoch: 5 [0/60000 (0%)]\tTrain Loss: 0.595482\n",
            "Train Epoch: 5 [6400/60000 (11%)]\tTrain Loss: 0.551644\n",
            "Train Epoch: 5 [12800/60000 (21%)]\tTrain Loss: 0.460975\n",
            "Train Epoch: 5 [19200/60000 (32%)]\tTrain Loss: 0.403674\n",
            "Train Epoch: 5 [25600/60000 (43%)]\tTrain Loss: 0.509077\n",
            "Train Epoch: 5 [32000/60000 (53%)]\tTrain Loss: 0.616963\n",
            "Train Epoch: 5 [38400/60000 (64%)]\tTrain Loss: 0.405228\n",
            "Train Epoch: 5 [44800/60000 (75%)]\tTrain Loss: 0.347889\n",
            "Train Epoch: 5 [51200/60000 (85%)]\tTrain Loss: 0.526176\n",
            "Train Epoch: 5 [57600/60000 (96%)]\tTrain Loss: 1.002876\n",
            "\n",
            "[EPOCH: 5], \tTest Loss: 0.0144, \tTest Accuracy: 86.24 % \n",
            "\n",
            "Train Epoch: 6 [0/60000 (0%)]\tTrain Loss: 0.318959\n",
            "Train Epoch: 6 [6400/60000 (11%)]\tTrain Loss: 0.597315\n",
            "Train Epoch: 6 [12800/60000 (21%)]\tTrain Loss: 0.429188\n",
            "Train Epoch: 6 [19200/60000 (32%)]\tTrain Loss: 0.586472\n",
            "Train Epoch: 6 [25600/60000 (43%)]\tTrain Loss: 0.494429\n",
            "Train Epoch: 6 [32000/60000 (53%)]\tTrain Loss: 0.203130\n",
            "Train Epoch: 6 [38400/60000 (64%)]\tTrain Loss: 0.959857\n",
            "Train Epoch: 6 [44800/60000 (75%)]\tTrain Loss: 0.515490\n",
            "Train Epoch: 6 [51200/60000 (85%)]\tTrain Loss: 0.317665\n",
            "Train Epoch: 6 [57600/60000 (96%)]\tTrain Loss: 0.395740\n",
            "\n",
            "[EPOCH: 6], \tTest Loss: 0.0129, \tTest Accuracy: 87.73 % \n",
            "\n",
            "Train Epoch: 7 [0/60000 (0%)]\tTrain Loss: 0.743874\n",
            "Train Epoch: 7 [6400/60000 (11%)]\tTrain Loss: 0.346149\n",
            "Train Epoch: 7 [12800/60000 (21%)]\tTrain Loss: 0.260290\n",
            "Train Epoch: 7 [19200/60000 (32%)]\tTrain Loss: 0.301436\n",
            "Train Epoch: 7 [25600/60000 (43%)]\tTrain Loss: 0.323870\n",
            "Train Epoch: 7 [32000/60000 (53%)]\tTrain Loss: 0.318674\n",
            "Train Epoch: 7 [38400/60000 (64%)]\tTrain Loss: 0.284634\n",
            "Train Epoch: 7 [44800/60000 (75%)]\tTrain Loss: 0.363377\n",
            "Train Epoch: 7 [51200/60000 (85%)]\tTrain Loss: 0.655014\n",
            "Train Epoch: 7 [57600/60000 (96%)]\tTrain Loss: 0.287153\n",
            "\n",
            "[EPOCH: 7], \tTest Loss: 0.0119, \tTest Accuracy: 88.99 % \n",
            "\n",
            "Train Epoch: 8 [0/60000 (0%)]\tTrain Loss: 0.321294\n",
            "Train Epoch: 8 [6400/60000 (11%)]\tTrain Loss: 0.411851\n",
            "Train Epoch: 8 [12800/60000 (21%)]\tTrain Loss: 0.537592\n",
            "Train Epoch: 8 [19200/60000 (32%)]\tTrain Loss: 0.358520\n",
            "Train Epoch: 8 [25600/60000 (43%)]\tTrain Loss: 0.253990\n",
            "Train Epoch: 8 [32000/60000 (53%)]\tTrain Loss: 0.288306\n",
            "Train Epoch: 8 [38400/60000 (64%)]\tTrain Loss: 0.363589\n",
            "Train Epoch: 8 [44800/60000 (75%)]\tTrain Loss: 0.431968\n",
            "Train Epoch: 8 [51200/60000 (85%)]\tTrain Loss: 0.403694\n",
            "Train Epoch: 8 [57600/60000 (96%)]\tTrain Loss: 0.570435\n",
            "\n",
            "[EPOCH: 8], \tTest Loss: 0.0113, \tTest Accuracy: 89.61 % \n",
            "\n",
            "Train Epoch: 9 [0/60000 (0%)]\tTrain Loss: 0.192615\n",
            "Train Epoch: 9 [6400/60000 (11%)]\tTrain Loss: 0.257886\n",
            "Train Epoch: 9 [12800/60000 (21%)]\tTrain Loss: 0.237980\n",
            "Train Epoch: 9 [19200/60000 (32%)]\tTrain Loss: 0.410739\n",
            "Train Epoch: 9 [25600/60000 (43%)]\tTrain Loss: 0.338478\n",
            "Train Epoch: 9 [32000/60000 (53%)]\tTrain Loss: 0.224296\n",
            "Train Epoch: 9 [38400/60000 (64%)]\tTrain Loss: 0.170960\n",
            "Train Epoch: 9 [44800/60000 (75%)]\tTrain Loss: 0.592833\n",
            "Train Epoch: 9 [51200/60000 (85%)]\tTrain Loss: 0.390348\n",
            "Train Epoch: 9 [57600/60000 (96%)]\tTrain Loss: 0.131404\n",
            "\n",
            "[EPOCH: 9], \tTest Loss: 0.0109, \tTest Accuracy: 89.86 % \n",
            "\n",
            "Train Epoch: 10 [0/60000 (0%)]\tTrain Loss: 0.340711\n",
            "Train Epoch: 10 [6400/60000 (11%)]\tTrain Loss: 0.339989\n",
            "Train Epoch: 10 [12800/60000 (21%)]\tTrain Loss: 0.391893\n",
            "Train Epoch: 10 [19200/60000 (32%)]\tTrain Loss: 0.230962\n",
            "Train Epoch: 10 [25600/60000 (43%)]\tTrain Loss: 0.276267\n",
            "Train Epoch: 10 [32000/60000 (53%)]\tTrain Loss: 0.291457\n",
            "Train Epoch: 10 [38400/60000 (64%)]\tTrain Loss: 0.339647\n",
            "Train Epoch: 10 [44800/60000 (75%)]\tTrain Loss: 0.390303\n",
            "Train Epoch: 10 [51200/60000 (85%)]\tTrain Loss: 0.410038\n",
            "Train Epoch: 10 [57600/60000 (96%)]\tTrain Loss: 0.455227\n",
            "\n",
            "[EPOCH: 10], \tTest Loss: 0.0106, \tTest Accuracy: 90.09 % \n",
            "\n"
          ],
          "name": "stdout"
        }
      ]
    }
  ]
}