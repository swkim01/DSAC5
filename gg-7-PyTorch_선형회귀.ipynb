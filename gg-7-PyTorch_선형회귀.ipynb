{
  "nbformat": 4,
  "nbformat_minor": 0,
  "metadata": {
    "colab": {
      "name": "gg-7-PyTorch_선형회귀.ipynb",
      "provenance": [],
      "collapsed_sections": [],
      "authorship_tag": "ABX9TyP/gIZjstlod7I+Mh1aKJN5"
    },
    "kernelspec": {
      "name": "python3",
      "display_name": "Python 3"
    }
  },
  "cells": [
    {
      "cell_type": "markdown",
      "metadata": {
        "id": "teJUU9pQZZre"
      },
      "source": [
        "## PyTorch 선형회귀\r\n",
        "\r\n",
        "<table class=\"tfo-notebook-buttons\" align=\"left\">\r\n",
        "  <td>\r\n",
        "    <a target=\"_blank\" href=\"https://colab.research.google.com/github/swkim01/DSAC5/blob/main/gg-7-PyTorch_선형회귀.ipynb\"><img src=\"https://github.com/swkim01/DSAC5/raw/main/colab_logo_32px.png\" />구글 코랩에서 실행</a>\r\n",
        "  </td>\r\n",
        "  <td>\r\n",
        "    <a target=\"_blank\" href=\"https://github.com/swkim01/DSAC5/blob/main/gg-7-PyTorch_선형회귀.ipynb\"><img src=\"https://github.com/swkim01/DSAC5/raw/main/GitHub-Mark-32px.png\" />깃헙에서 소스 보기</a>\r\n",
        "  </td>\r\n",
        "</table>"
      ]
    },
    {
      "cell_type": "markdown",
      "metadata": {
        "id": "f9_XrHxuZwYk"
      },
      "source": [
        "## NumPy 를 이용한 선형회귀"
      ]
    },
    {
      "cell_type": "markdown",
      "metadata": {
        "id": "sY_zmnPKjkMB"
      },
      "source": [
        "## 최소제곱법으로 구한 해석적 해"
      ]
    },
    {
      "cell_type": "code",
      "metadata": {
        "id": "GmYUccYmZ7hY"
      },
      "source": [
        "import matplotlib.pyplot as plt\r\n",
        "import numpy as np"
      ],
      "execution_count": null,
      "outputs": []
    },
    {
      "cell_type": "markdown",
      "metadata": {
        "id": "phegOAy5w7H7"
      },
      "source": [
        "이제 데이터를 선언합니다. 아래 데이터는 y=2+3x를 가정된 상태에서 만들어진 데이터로 우리는 이미 정답이 W=3, b=2임을 알고 있는 상태입니다. 모델이 이 두 W와 b의 값을 제대로 찾아내도록 하는 것이 목표입니다."
      ]
    },
    {
      "cell_type": "code",
      "metadata": {
        "colab": {
          "base_uri": "https://localhost:8080/",
          "height": 265
        },
        "id": "RoD1It9fjXDt",
        "outputId": "359d26cc-027a-46cb-9ecf-1f87e1d017f4"
      },
      "source": [
        "X = 2 * np.random.rand(100, 1)\r\n",
        "y = 2 + 3 * X + np.random.randn(100, 1)\r\n",
        "\r\n",
        "plt.plot(X, y, \"b.\")\r\n",
        "plt.show()"
      ],
      "execution_count": null,
      "outputs": [
        {
          "output_type": "display_data",
          "data": {
            "image/png": "[encoded data removed]",
            "text/plain": [
              "<Figure size 432x288 with 1 Axes>"
            ]
          },
          "metadata": {
            "tags": [],
            "needs_background": "light"
          }
        }
      ]
    },
    {
      "cell_type": "code",
      "metadata": {
        "colab": {
          "base_uri": "https://localhost:8080/",
          "height": 269
        },
        "id": "PSQl5r5CjU31",
        "outputId": "8b25399a-7528-4116-b114-d5061f90bd35"
      },
      "source": [
        "X_b = np.c_[np.ones((100, 1)), X] # add x0 = 1 to each instance\r\n",
        "theta_best = np.linalg.inv(X_b.T.dot(X_b)).dot(X_b.T).dot(y)\r\n",
        "\r\n",
        "X_new = np.array([[0], [2]])\r\n",
        "X_new_b = np.c_[np.ones((2, 1)), X_new] # add x0 = 1 to each instance\r\n",
        "y_predict = X_new_b.dot(theta_best)\r\n",
        "\r\n",
        "plt.plot(X_new, y_predict, \"r-\")\r\n",
        "plt.plot(X, y, \"b.\")\r\n",
        "plt.axis([0, 2, 0, 10])\r\n",
        "plt.show()"
      ],
      "execution_count": null,
      "outputs": [
        {
          "output_type": "display_data",
          "data": {
            "image/png": "[encoded data removed]",
            "text/plain": [
              "<Figure size 432x288 with 1 Axes>"
            ]
          },
          "metadata": {
            "tags": [],
            "needs_background": "light"
          }
        }
      ]
    },
    {
      "cell_type": "markdown",
      "metadata": {
        "id": "DnEO5Icojr4i"
      },
      "source": [
        "## 기울기하강법으로 구한 근사적 해"
      ]
    },
    {
      "cell_type": "code",
      "metadata": {
        "colab": {
          "base_uri": "https://localhost:8080/",
          "height": 269
        },
        "id": "xbTaRr24jxwQ",
        "outputId": "75893b66-50e3-49fa-c1a0-7c34788f229c"
      },
      "source": [
        "import matplotlib.pyplot as plt\r\n",
        "import numpy as np\r\n",
        "\r\n",
        "X = 2 * np.random.rand(100, 1)\r\n",
        "y = 2 + 3 * X + np.random.randn(100, 1)\r\n",
        "\r\n",
        "X_b = np.c_[np.ones((100, 1)), X] # add x0 = 1 to each instance\r\n",
        "theta_best = np.linalg.inv(X_b.T.dot(X_b)).dot(X_b.T).dot(y)\r\n",
        "\r\n",
        "eta = 0.1 # learning rate\r\n",
        "n_iterations = 500\r\n",
        "m = 100\r\n",
        "theta = np.random.randn(2, 1)\r\n",
        "for iteration in range(n_iterations):\r\n",
        "    gradients = 2. / m * X_b.T.dot(X_b.dot(theta) - y)\r\n",
        "    theta = theta - eta * gradients\r\n",
        "    y_predict_gd = X_new_b.dot(theta)\r\n",
        "    if iteration < 10:\r\n",
        "        plt.plot(X_new, y_predict_gd, \"g-\")\r\n",
        "plt.plot(X_new, y_predict_gd, \"g-\")\r\n",
        "plt.plot(X_new, y_predict, \"r-\")\r\n",
        "plt.plot(X, y, \"b.\")\r\n",
        "plt.axis([0, 2, 0, 10])\r\n",
        "plt.show()"
      ],
      "execution_count": null,
      "outputs": [
        {
          "output_type": "display_data",
          "data": {
            "image/png": "[encoded data removed]",
            "text/plain": [
              "<Figure size 432x288 with 1 Axes>"
            ]
          },
          "metadata": {
            "tags": [],
            "needs_background": "light"
          }
        }
      ]
    },
    {
      "cell_type": "markdown",
      "metadata": {
        "id": "kUQREBBJZ2QL"
      },
      "source": [
        "## PyTorch 를 이용한 선형회귀"
      ]
    },
    {
      "cell_type": "code",
      "metadata": {
        "colab": {
          "base_uri": "https://localhost:8080/"
        },
        "id": "Usk8NhJBNqWy",
        "outputId": "56daf71d-7464-44e9-92ef-2b949ee660d9"
      },
      "source": [
        "import torch\r\n",
        "import torch.nn as nn\r\n",
        "import torch.nn.functional as F\r\n",
        "import numpy as np\r\n",
        "\r\n",
        "torch.manual_seed(1)"
      ],
      "execution_count": null,
      "outputs": [
        {
          "output_type": "execute_result",
          "data": {
            "text/plain": [
              "<torch._C.Generator at 0x7f3209592e58>"
            ]
          },
          "metadata": {
            "tags": []
          },
          "execution_count": 8
        }
      ]
    },
    {
      "cell_type": "markdown",
      "metadata": {
        "id": "tmGomaowN2VR"
      },
      "source": [
        "이제 데이터를 선언합니다. 아래 데이터는 y=2+3x를 가정된 상태에서 만들어진 데이터로 우리는 이미 정답이 W=3, b=2임을 알고 있는 상태입니다. 모델이 이 두 W와 b의 값을 제대로 찾아내도록 하는 것이 목표입니다."
      ]
    },
    {
      "cell_type": "code",
      "metadata": {
        "id": "tYFJMBwdN5_A"
      },
      "source": [
        "X = 2 * np.random.rand(100, 1)\r\n",
        "y = 2 + 3 * X + np.random.randn(100, 1)\r\n",
        "#x_train = torch.FloatTensor([[1], [2], [3]])\r\n",
        "#y_train = torch.FloatTensor([[2], [4], [6]])\r\n",
        "x_train = torch.FloatTensor(X)\r\n",
        "y_train = torch.FloatTensor(y)"
      ],
      "execution_count": null,
      "outputs": []
    },
    {
      "cell_type": "markdown",
      "metadata": {
        "id": "VPTv5qAnN9aZ"
      },
      "source": [
        "데이터를 정의하였으니 이제 선형 회귀 모델을 구현할 차례입니다.\r\n",
        "nn.Linear()는 입력의 차원, 출력의 차원을 인수로 받습니다."
      ]
    },
    {
      "cell_type": "code",
      "metadata": {
        "id": "GlaWlZDKOCOs"
      },
      "source": [
        "# 모델을 선언 및 초기화. 단순 선형 회귀이므로 input_dim=1, output_dim=1.\r\n",
        "model = nn.Linear(1,1)"
      ],
      "execution_count": null,
      "outputs": []
    },
    {
      "cell_type": "markdown",
      "metadata": {
        "id": "bT9wyXnqOIQg"
      },
      "source": [
        "위 torch.nn.Linear 인자로 1, 1을 사용하였습니다. 하나의 입력 x에 대해서 하나의 출력 y을 가지므로, 입력 차원과 출력 차원 모두 1을 인수로 사용하였습니다. model에는 가중치 W와 편향 b가 저장되어져 있습니다. 이 값은 model.parameters()라는 함수를 사용하여 불러올 수 있는데, 한 번 출력해보겠습니다."
      ]
    },
    {
      "cell_type": "code",
      "metadata": {
        "colab": {
          "base_uri": "https://localhost:8080/"
        },
        "id": "t5t2Y_GMOKE_",
        "outputId": "c9d41c68-ad66-4eff-a6d7-0ad3355e1517"
      },
      "source": [
        "print(list(model.parameters()))"
      ],
      "execution_count": null,
      "outputs": [
        {
          "output_type": "stream",
          "text": [
            "[Parameter containing:\n",
            "tensor([[0.5153]], requires_grad=True), Parameter containing:\n",
            "tensor([-0.4414], requires_grad=True)]\n"
          ],
          "name": "stdout"
        }
      ]
    },
    {
      "cell_type": "markdown",
      "metadata": {
        "id": "MmhtNMryOX0n"
      },
      "source": [
        "2개의 값이 출력되는데 첫번째 값이 W고, 두번째 값이 b에 해당됩니다. 두 값 모두 현재는 랜덤 초기화가 되어져 있습니다. 그리고 두 값 모두 학습의 대상이므로 requires_grad=True가 되어져 있는 것을 볼 수 있습니다."
      ]
    },
    {
      "cell_type": "markdown",
      "metadata": {
        "id": "Hs1lLggROZUw"
      },
      "source": [
        "이제 옵티마이저를 정의합니다. model.parameters()를 사용하여 W와 b를 전달합니다. 학습률(learning rate)은 0.01로 정합니다."
      ]
    },
    {
      "cell_type": "code",
      "metadata": {
        "colab": {
          "base_uri": "https://localhost:8080/"
        },
        "id": "TD9hEnEEOcfn",
        "outputId": "30357748-bf64-4221-e3b3-941a7f083900"
      },
      "source": [
        "# optimizer 설정. 경사 하강법 SGD를 사용하고 learning rate를 의미하는 lr은 0.01\r\n",
        "optimizer = torch.optim.SGD(model.parameters(), lr=0.01) \r\n",
        "# 전체 훈련 데이터에 대해 경사 하강법을 2,000회 반복\r\n",
        "nb_epochs = 2000\r\n",
        "for epoch in range(nb_epochs+1):\r\n",
        "\r\n",
        "    # H(x) 계산\r\n",
        "    prediction = model(x_train)\r\n",
        "\r\n",
        "    # cost 계산\r\n",
        "    cost = F.mse_loss(prediction, y_train) # <== 파이토치에서 제공하는 평균 제곱 오차 함수\r\n",
        "\r\n",
        "    # cost로 H(x) 개선하는 부분\r\n",
        "    # gradient를 0으로 초기화\r\n",
        "    optimizer.zero_grad()\r\n",
        "    # 비용 함수를 미분하여 gradient 계산\r\n",
        "    cost.backward() # backward 연산\r\n",
        "    # W와 b를 업데이트\r\n",
        "    optimizer.step()\r\n",
        "\r\n",
        "    if epoch % 100 == 0:\r\n",
        "    # 100번마다 로그 출력\r\n",
        "      print('Epoch {:4d}/{} Cost: {:.6f}'.format(\r\n",
        "          epoch, nb_epochs, cost.item()\r\n",
        "      ))"
      ],
      "execution_count": null,
      "outputs": [
        {
          "output_type": "stream",
          "text": [
            "Epoch    0/2000 Cost: 29.602806\n",
            "Epoch  100/2000 Cost: 0.975786\n",
            "Epoch  200/2000 Cost: 0.969191\n",
            "Epoch  300/2000 Cost: 0.966537\n",
            "Epoch  400/2000 Cost: 0.964973\n",
            "Epoch  500/2000 Cost: 0.964051\n",
            "Epoch  600/2000 Cost: 0.963508\n",
            "Epoch  700/2000 Cost: 0.963188\n",
            "Epoch  800/2000 Cost: 0.962999\n",
            "Epoch  900/2000 Cost: 0.962888\n",
            "Epoch 1000/2000 Cost: 0.962822\n",
            "Epoch 1100/2000 Cost: 0.962784\n",
            "Epoch 1200/2000 Cost: 0.962761\n",
            "Epoch 1300/2000 Cost: 0.962748\n",
            "Epoch 1400/2000 Cost: 0.962739\n",
            "Epoch 1500/2000 Cost: 0.962735\n",
            "Epoch 1600/2000 Cost: 0.962732\n",
            "Epoch 1700/2000 Cost: 0.962731\n",
            "Epoch 1800/2000 Cost: 0.962730\n",
            "Epoch 1900/2000 Cost: 0.962729\n",
            "Epoch 2000/2000 Cost: 0.962729\n"
          ],
          "name": "stdout"
        }
      ]
    },
    {
      "cell_type": "markdown",
      "metadata": {
        "id": "3zuaxrsOOlQ5"
      },
      "source": [
        "학습이 완료되었습니다. Cost의 값이 매우 작습니다. W와 b의 값도 최적화가 되었는지 확인해봅시다. x에 임의의 값 4를 넣어 모델이 예측하는 y의 값을 확인해보겠습니다."
      ]
    },
    {
      "cell_type": "code",
      "metadata": {
        "colab": {
          "base_uri": "https://localhost:8080/"
        },
        "id": "m1K_cUKjOnJZ",
        "outputId": "957d6b0b-2b59-4b06-b110-0550a1c7dff7"
      },
      "source": [
        "# 임의의 입력 4를 선언\r\n",
        "new_var =  torch.FloatTensor([[4.0]]) \r\n",
        "# 입력한 값 4에 대해서 예측값 y를 리턴받아서 pred_y에 저장\r\n",
        "pred_y = model(new_var) # forward 연산\r\n",
        "# y = 3+2x 이므로 입력이 4라면 y가 14에 가까운 값이 나와야 제대로 학습이 된 것\r\n",
        "print(\"훈련 후 입력이 4일 때의 예측값 :\", pred_y) "
      ],
      "execution_count": null,
      "outputs": [
        {
          "output_type": "stream",
          "text": [
            "훈련 후 입력이 4일 때의 예측값 : tensor([[14.0863]], grad_fn=<AddmmBackward>)\n"
          ],
          "name": "stdout"
        }
      ]
    },
    {
      "cell_type": "markdown",
      "metadata": {
        "id": "x3289MD9Oson"
      },
      "source": [
        "이제 학습 후의 W와 b의 값을 출력해보겠습니다."
      ]
    },
    {
      "cell_type": "code",
      "metadata": {
        "colab": {
          "base_uri": "https://localhost:8080/"
        },
        "id": "Ic0piPcVOt6f",
        "outputId": "6bc88e3e-4085-48d8-e11f-860f46db747a"
      },
      "source": [
        "print(list(model.parameters()))"
      ],
      "execution_count": null,
      "outputs": [
        {
          "output_type": "stream",
          "text": [
            "[Parameter containing:\n",
            "tensor([[3.0075]], requires_grad=True), Parameter containing:\n",
            "tensor([2.0562], requires_grad=True)]\n"
          ],
          "name": "stdout"
        }
      ]
    }
  ]
}