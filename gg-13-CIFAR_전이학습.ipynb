{
  "nbformat": 4,
  "nbformat_minor": 0,
  "metadata": {
    "accelerator": "GPU",
    "colab": {
      "name": "gg-13-CIFAR_전이학습.ipynb",
      "provenance": [],
      "collapsed_sections": []
    },
    "kernelspec": {
      "display_name": "Python 3",
      "language": "python",
      "name": "python3"
    },
    "language_info": {
      "codemirror_mode": {
        "name": "ipython",
        "version": 3
      },
      "file_extension": ".py",
      "mimetype": "text/x-python",
      "name": "python",
      "nbconvert_exporter": "python",
      "pygments_lexer": "ipython3",
      "version": "3.6.8"
    },
    "widgets": {
      "application/vnd.jupyter.widget-state+json": {
        "eaa875ef8dbf44fe87ec1a2921f2e39c": {
          "model_module": "@jupyter-widgets/controls",
          "model_name": "HBoxModel",
          "state": {
            "_view_name": "HBoxView",
            "_dom_classes": [],
            "_model_name": "HBoxModel",
            "_view_module": "@jupyter-widgets/controls",
            "_model_module_version": "1.5.0",
            "_view_count": null,
            "_view_module_version": "1.5.0",
            "box_style": "",
            "layout": "IPY_MODEL_b723a12385c647b2bdd0425b18b73f74",
            "_model_module": "@jupyter-widgets/controls",
            "children": [
              "IPY_MODEL_af6fe83d24cb43cabcfeda350d65a05e",
              "IPY_MODEL_5cb37c8df38e45a2a60c418ae03ff184"
            ]
          }
        },
        "b723a12385c647b2bdd0425b18b73f74": {
          "model_module": "@jupyter-widgets/base",
          "model_name": "LayoutModel",
          "state": {
            "_view_name": "LayoutView",
            "grid_template_rows": null,
            "right": null,
            "justify_content": null,
            "_view_module": "@jupyter-widgets/base",
            "overflow": null,
            "_model_module_version": "1.2.0",
            "_view_count": null,
            "flex_flow": null,
            "width": null,
            "min_width": null,
            "border": null,
            "align_items": null,
            "bottom": null,
            "_model_module": "@jupyter-widgets/base",
            "top": null,
            "grid_column": null,
            "overflow_y": null,
            "overflow_x": null,
            "grid_auto_flow": null,
            "grid_area": null,
            "grid_template_columns": null,
            "flex": null,
            "_model_name": "LayoutModel",
            "justify_items": null,
            "grid_row": null,
            "max_height": null,
            "align_content": null,
            "visibility": null,
            "align_self": null,
            "height": null,
            "min_height": null,
            "padding": null,
            "grid_auto_rows": null,
            "grid_gap": null,
            "max_width": null,
            "order": null,
            "_view_module_version": "1.2.0",
            "grid_template_areas": null,
            "object_position": null,
            "object_fit": null,
            "grid_auto_columns": null,
            "margin": null,
            "display": null,
            "left": null
          }
        },
        "af6fe83d24cb43cabcfeda350d65a05e": {
          "model_module": "@jupyter-widgets/controls",
          "model_name": "FloatProgressModel",
          "state": {
            "_view_name": "ProgressView",
            "style": "IPY_MODEL_952017c706a34feab4a9f4700f438260",
            "_dom_classes": [],
            "description": "100%",
            "_model_name": "FloatProgressModel",
            "bar_style": "success",
            "max": 46827520,
            "_view_module": "@jupyter-widgets/controls",
            "_model_module_version": "1.5.0",
            "value": 46827520,
            "_view_count": null,
            "_view_module_version": "1.5.0",
            "orientation": "horizontal",
            "min": 0,
            "description_tooltip": null,
            "_model_module": "@jupyter-widgets/controls",
            "layout": "IPY_MODEL_b4e5bd088c704a2ba6272bda7a5ad4bb"
          }
        },
        "5cb37c8df38e45a2a60c418ae03ff184": {
          "model_module": "@jupyter-widgets/controls",
          "model_name": "HTMLModel",
          "state": {
            "_view_name": "HTMLView",
            "style": "IPY_MODEL_48ec6ef3d740471684bd88dad8dd5564",
            "_dom_classes": [],
            "description": "",
            "_model_name": "HTMLModel",
            "placeholder": "​",
            "_view_module": "@jupyter-widgets/controls",
            "_model_module_version": "1.5.0",
            "value": " 44.7M/44.7M [00:04&lt;00:00, 11.0MB/s]",
            "_view_count": null,
            "_view_module_version": "1.5.0",
            "description_tooltip": null,
            "_model_module": "@jupyter-widgets/controls",
            "layout": "IPY_MODEL_1fb0c1f58c054e93aedb95e4bfc93fcc"
          }
        },
        "952017c706a34feab4a9f4700f438260": {
          "model_module": "@jupyter-widgets/controls",
          "model_name": "ProgressStyleModel",
          "state": {
            "_view_name": "StyleView",
            "_model_name": "ProgressStyleModel",
            "description_width": "initial",
            "_view_module": "@jupyter-widgets/base",
            "_model_module_version": "1.5.0",
            "_view_count": null,
            "_view_module_version": "1.2.0",
            "bar_color": null,
            "_model_module": "@jupyter-widgets/controls"
          }
        },
        "b4e5bd088c704a2ba6272bda7a5ad4bb": {
          "model_module": "@jupyter-widgets/base",
          "model_name": "LayoutModel",
          "state": {
            "_view_name": "LayoutView",
            "grid_template_rows": null,
            "right": null,
            "justify_content": null,
            "_view_module": "@jupyter-widgets/base",
            "overflow": null,
            "_model_module_version": "1.2.0",
            "_view_count": null,
            "flex_flow": null,
            "width": null,
            "min_width": null,
            "border": null,
            "align_items": null,
            "bottom": null,
            "_model_module": "@jupyter-widgets/base",
            "top": null,
            "grid_column": null,
            "overflow_y": null,
            "overflow_x": null,
            "grid_auto_flow": null,
            "grid_area": null,
            "grid_template_columns": null,
            "flex": null,
            "_model_name": "LayoutModel",
            "justify_items": null,
            "grid_row": null,
            "max_height": null,
            "align_content": null,
            "visibility": null,
            "align_self": null,
            "height": null,
            "min_height": null,
            "padding": null,
            "grid_auto_rows": null,
            "grid_gap": null,
            "max_width": null,
            "order": null,
            "_view_module_version": "1.2.0",
            "grid_template_areas": null,
            "object_position": null,
            "object_fit": null,
            "grid_auto_columns": null,
            "margin": null,
            "display": null,
            "left": null
          }
        },
        "48ec6ef3d740471684bd88dad8dd5564": {
          "model_module": "@jupyter-widgets/controls",
          "model_name": "DescriptionStyleModel",
          "state": {
            "_view_name": "StyleView",
            "_model_name": "DescriptionStyleModel",
            "description_width": "",
            "_view_module": "@jupyter-widgets/base",
            "_model_module_version": "1.5.0",
            "_view_count": null,
            "_view_module_version": "1.2.0",
            "_model_module": "@jupyter-widgets/controls"
          }
        },
        "1fb0c1f58c054e93aedb95e4bfc93fcc": {
          "model_module": "@jupyter-widgets/base",
          "model_name": "LayoutModel",
          "state": {
            "_view_name": "LayoutView",
            "grid_template_rows": null,
            "right": null,
            "justify_content": null,
            "_view_module": "@jupyter-widgets/base",
            "overflow": null,
            "_model_module_version": "1.2.0",
            "_view_count": null,
            "flex_flow": null,
            "width": null,
            "min_width": null,
            "border": null,
            "align_items": null,
            "bottom": null,
            "_model_module": "@jupyter-widgets/base",
            "top": null,
            "grid_column": null,
            "overflow_y": null,
            "overflow_x": null,
            "grid_auto_flow": null,
            "grid_area": null,
            "grid_template_columns": null,
            "flex": null,
            "_model_name": "LayoutModel",
            "justify_items": null,
            "grid_row": null,
            "max_height": null,
            "align_content": null,
            "visibility": null,
            "align_self": null,
            "height": null,
            "min_height": null,
            "padding": null,
            "grid_auto_rows": null,
            "grid_gap": null,
            "max_width": null,
            "order": null,
            "_view_module_version": "1.2.0",
            "grid_template_areas": null,
            "object_position": null,
            "object_fit": null,
            "grid_auto_columns": null,
            "margin": null,
            "display": null,
            "left": null
          }
        }
      }
    }
  },
  "cells": [
    {
      "cell_type": "markdown",
      "metadata": {
        "id": "Y1Rfs1TBDRdh"
      },
      "source": [
        "## 전이학습 CIFAR\r\n",
        "\r\n",
        "<table class=\"tfo-notebook-buttons\" align=\"left\">\r\n",
        "  <td>\r\n",
        "    <a target=\"_blank\" href=\"https://colab.research.google.com/github/swkim01/DSAC5/blob/main/gg-13-CIFAR_전이학습.ipynb\"><img src=\"https://github.com/swkim01/DSAC5/raw/main/colab_logo_32px.png\" />구글 코랩에서 실행</a>\r\n",
        "  </td>\r\n",
        "  <td>\r\n",
        "    <a target=\"_blank\" href=\"https://github.com/swkim01/DSAC5/blob/main/gg-13-CIFAR_전이학습.ipynb\"><img src=\"https://github.com/swkim01/DSAC5/raw/main/GitHub-Mark-32px.png\" />깃헙에서 소스 보기</a>\r\n",
        "  </td>\r\n",
        "</table>"
      ]
    },
    {
      "cell_type": "code",
      "metadata": {
        "id": "_eWhtTr9z0oj"
      },
      "source": [
        "''' 1. Module Import '''\n",
        "import numpy as np\n",
        "import matplotlib.pyplot as plt\n",
        " \n",
        "import torch\n",
        "import torch.nn as nn\n",
        "import torch.nn.functional as F\n",
        "from torchvision import transforms, datasets"
      ],
      "execution_count": null,
      "outputs": []
    },
    {
      "cell_type": "code",
      "metadata": {
        "colab": {
          "base_uri": "https://localhost:8080/"
        },
        "id": "Tjc3RcS1z0ok",
        "outputId": "4d6d2b01-2430-4b96-9770-96a2040c1c62"
      },
      "source": [
        "''' 2. 딥러닝 모델을 설계할 때 활용하는 장비 확인 '''\n",
        "if torch.cuda.is_available():\n",
        "    DEVICE = torch.device('cuda')\n",
        "else:\n",
        "    DEVICE = torch.device('cpu')\n",
        "print('Using PyTorch version:', torch.__version__, ' Device:', DEVICE)"
      ],
      "execution_count": null,
      "outputs": [
        {
          "output_type": "stream",
          "text": [
            "Using PyTorch version: 1.7.0+cu101  Device: cuda\n"
          ],
          "name": "stdout"
        }
      ]
    },
    {
      "cell_type": "code",
      "metadata": {
        "id": "KvqVjCdaz0om"
      },
      "source": [
        "BATCH_SIZE = 32\n",
        "EPOCHS = 10"
      ],
      "execution_count": null,
      "outputs": []
    },
    {
      "cell_type": "code",
      "metadata": {
        "id": "4jDD1caPELuZ"
      },
      "source": [
        "%%shell\r\n",
        "\r\n",
        "wget https://download.pytorch.org/tutorial/hymenoptera_data.zip\r\n",
        "unzip hymenoptera_data.zip"
      ],
      "execution_count": null,
      "outputs": []
    },
    {
      "cell_type": "code",
      "metadata": {
        "id": "eemmBuWpz0on"
      },
      "source": [
        "''' 3. 개미와 벌을 분류하기 위해 개미 이미지 데이터와 벌 이미지 데이터 불러오기 (Train set, Test set 분리하기) '''\n",
        "\n",
        "data_transforms = {\n",
        "    'train': transforms.Compose([\n",
        "        #transforms.Resize((224,224)),\n",
        "        transforms.RandomResizedCrop(224),\n",
        "        transforms.RandomHorizontalFlip(),\n",
        "        transforms.ToTensor(),\n",
        "        transforms.Normalize([0.5, 0.5, 0.5], [0.5, 0.5, 0.5])\n",
        "    ]),\n",
        "    'val': transforms.Compose([\n",
        "        transforms.CenterCrop(224),\n",
        "        transforms.Resize(256),\n",
        "        transforms.ToTensor(),\n",
        "        transforms.Normalize([0.5, 0.5, 0.5], [0.5, 0.5, 0.5])\n",
        "    ]),\n",
        "}\n",
        " \n",
        "#image_datasets = {x: datasets.ImageFolder(\"../data/hymenoptera_data\", data_transforms[x]) for x in ['train', 'val']}\n",
        "image_datasets = {x: datasets.ImageFolder(\"/content/hymenoptera_data\", data_transforms[x]) for x in ['train', 'val']}\n",
        "dataloaders = {x: torch.utils.data.DataLoader(image_datasets[x], batch_size = BATCH_SIZE, num_workers = 0, shuffle = True) for x in ['train', 'val']}"
      ],
      "execution_count": null,
      "outputs": []
    },
    {
      "cell_type": "code",
      "metadata": {
        "colab": {
          "base_uri": "https://localhost:8080/"
        },
        "id": "W1aWidjxz0on",
        "outputId": "22847276-f2ab-4d4b-c48d-005c014b9109"
      },
      "source": [
        "''' 4. 데이터 확인하기 (1) '''\n",
        "for (X_train, y_train) in dataloaders['train']:\n",
        "    print('X_train:', X_train.size(), 'type:', X_train.type())\n",
        "    print('y_train:', y_train.size(), 'type:', y_train.type())\n",
        "    break"
      ],
      "execution_count": null,
      "outputs": [
        {
          "output_type": "stream",
          "text": [
            "X_train: torch.Size([32, 3, 224, 224]) type: torch.FloatTensor\n",
            "y_train: torch.Size([32]) type: torch.LongTensor\n"
          ],
          "name": "stdout"
        }
      ]
    },
    {
      "cell_type": "code",
      "metadata": {
        "colab": {
          "base_uri": "https://localhost:8080/",
          "height": 281
        },
        "id": "1wy_G7w1z0on",
        "outputId": "e94f844e-c3e1-41fb-b969-80be776a9ea7"
      },
      "source": [
        "''' 5. 데이터 확인하기 (2) '''\n",
        "pltsize = 1\n",
        "plt.figure(figsize=(10 * pltsize, pltsize))\n",
        " \n",
        "for i in range(10):\n",
        "    plt.subplot(1, 10, i + 1)\n",
        "    plt.axis('off')\n",
        "    plt.imshow(np.transpose(X_train[i], (1, 2, 0)))\n",
        "    plt.title('Class: ' + str(y_train[i].item()))"
      ],
      "execution_count": null,
      "outputs": [
        {
          "output_type": "stream",
          "text": [
            "Clipping input data to the valid range for imshow with RGB data ([0..1] for floats or [0..255] for integers).\n",
            "Clipping input data to the valid range for imshow with RGB data ([0..1] for floats or [0..255] for integers).\n",
            "Clipping input data to the valid range for imshow with RGB data ([0..1] for floats or [0..255] for integers).\n",
            "Clipping input data to the valid range for imshow with RGB data ([0..1] for floats or [0..255] for integers).\n",
            "Clipping input data to the valid range for imshow with RGB data ([0..1] for floats or [0..255] for integers).\n",
            "Clipping input data to the valid range for imshow with RGB data ([0..1] for floats or [0..255] for integers).\n",
            "Clipping input data to the valid range for imshow with RGB data ([0..1] for floats or [0..255] for integers).\n",
            "Clipping input data to the valid range for imshow with RGB data ([0..1] for floats or [0..255] for integers).\n",
            "Clipping input data to the valid range for imshow with RGB data ([0..1] for floats or [0..255] for integers).\n",
            "Clipping input data to the valid range for imshow with RGB data ([0..1] for floats or [0..255] for integers).\n"
          ],
          "name": "stderr"
        },
        {
          "output_type": "display_data",
          "data": {
            "image/png": "[encoded data removed]",
            "text/plain": [
              "<Figure size 720x72 with 10 Axes>"
            ]
          },
          "metadata": {
            "tags": [],
            "needs_background": "light"
          }
        }
      ]
    },
    {
      "cell_type": "code",
      "metadata": {
        "id": "TokWptv0z0on"
      },
      "source": [
        "''' 6. 불러온 특정 모델에 대하여 학습을 진행하며 학습 데이터에 대한 모델 성능을 확인하는 함수 정의 '''\n",
        "def train(model, train_loader, optimizer, log_interval):\n",
        "    model.train()\n",
        "    for batch_idx, (image, label) in enumerate(train_loader):\n",
        "        image = image.to(DEVICE)\n",
        "        label = label.to(DEVICE)\n",
        "        optimizer.zero_grad()\n",
        "        output = model(image)\n",
        "        loss = criterion(output, label)\n",
        "        loss.backward()\n",
        "        optimizer.step()\n",
        " \n",
        "        if batch_idx % log_interval == 0:\n",
        "            print(\"Train Epoch: {} [{}/{} ({:.0f}%)]\\tTrain Loss: {:.6f}\".format(\n",
        "                epoch, batch_idx * len(image), \n",
        "                len(train_loader.dataset), 100. * batch_idx / len(train_loader), \n",
        "                loss.item()))"
      ],
      "execution_count": null,
      "outputs": []
    },
    {
      "cell_type": "code",
      "metadata": {
        "id": "kEnP_TKVz0oo"
      },
      "source": [
        "''' 7. 학습되는 과정 속에서 검증 데이터에 대한 모델 성능을 확인하는 함수 정의 '''\n",
        "def evaluate(model, test_loader):\n",
        "    model.eval()\n",
        "    test_loss = 0\n",
        "    correct = 0\n",
        " \n",
        "    with torch.no_grad():\n",
        "        for image, label in test_loader:\n",
        "            image = image.to(DEVICE)\n",
        "            label = label.to(DEVICE)\n",
        "            output = model(image)\n",
        "            test_loss += criterion(output, label).item()\n",
        "            prediction = output.max(1, keepdim = True)[1]\n",
        "            correct += prediction.eq(label.view_as(prediction)).sum().item()\n",
        "    \n",
        "    test_loss /= len(test_loader.dataset)\n",
        "    test_accuracy = 100. * correct / len(test_loader.dataset)\n",
        "    return test_loss, test_accuracy"
      ],
      "execution_count": null,
      "outputs": []
    },
    {
      "cell_type": "code",
      "metadata": {
        "id": "Hv-HDtT7z0oo"
      },
      "source": [
        "''' 8. PyTorch 내에서 제공하는 미리 학습되지 않은 ResNet18 모델 불러온 후 Output 크기 설정하기 '''\n",
        "import torchvision.models as models\n",
        "model = models.resnet18(pretrained = False).cuda()\n",
        "num_ftrs = model.fc.in_features\n",
        "model.fc = nn.Linear(num_ftrs, 2) #len(image_datasets.classes)\n",
        "model = model.cuda()"
      ],
      "execution_count": null,
      "outputs": []
    },
    {
      "cell_type": "code",
      "metadata": {
        "colab": {
          "base_uri": "https://localhost:8080/"
        },
        "id": "icYy1jYoz0oo",
        "outputId": "aa660f7e-543f-46f6-c36a-3917dac817f1"
      },
      "source": [
        "''' 9. Optimizer, Objective Function 설정하기 '''\n",
        "optimizer = torch.optim.Adam(model.parameters(), lr = 0.0001)\n",
        "criterion = nn.CrossEntropyLoss()\n",
        " \n",
        "print(model)"
      ],
      "execution_count": null,
      "outputs": [
        {
          "output_type": "stream",
          "text": [
            "ResNet(\n",
            "  (conv1): Conv2d(3, 64, kernel_size=(7, 7), stride=(2, 2), padding=(3, 3), bias=False)\n",
            "  (bn1): BatchNorm2d(64, eps=1e-05, momentum=0.1, affine=True, track_running_stats=True)\n",
            "  (relu): ReLU(inplace=True)\n",
            "  (maxpool): MaxPool2d(kernel_size=3, stride=2, padding=1, dilation=1, ceil_mode=False)\n",
            "  (layer1): Sequential(\n",
            "    (0): BasicBlock(\n",
            "      (conv1): Conv2d(64, 64, kernel_size=(3, 3), stride=(1, 1), padding=(1, 1), bias=False)\n",
            "      (bn1): BatchNorm2d(64, eps=1e-05, momentum=0.1, affine=True, track_running_stats=True)\n",
            "      (relu): ReLU(inplace=True)\n",
            "      (conv2): Conv2d(64, 64, kernel_size=(3, 3), stride=(1, 1), padding=(1, 1), bias=False)\n",
            "      (bn2): BatchNorm2d(64, eps=1e-05, momentum=0.1, affine=True, track_running_stats=True)\n",
            "    )\n",
            "    (1): BasicBlock(\n",
            "      (conv1): Conv2d(64, 64, kernel_size=(3, 3), stride=(1, 1), padding=(1, 1), bias=False)\n",
            "      (bn1): BatchNorm2d(64, eps=1e-05, momentum=0.1, affine=True, track_running_stats=True)\n",
            "      (relu): ReLU(inplace=True)\n",
            "      (conv2): Conv2d(64, 64, kernel_size=(3, 3), stride=(1, 1), padding=(1, 1), bias=False)\n",
            "      (bn2): BatchNorm2d(64, eps=1e-05, momentum=0.1, affine=True, track_running_stats=True)\n",
            "    )\n",
            "  )\n",
            "  (layer2): Sequential(\n",
            "    (0): BasicBlock(\n",
            "      (conv1): Conv2d(64, 128, kernel_size=(3, 3), stride=(2, 2), padding=(1, 1), bias=False)\n",
            "      (bn1): BatchNorm2d(128, eps=1e-05, momentum=0.1, affine=True, track_running_stats=True)\n",
            "      (relu): ReLU(inplace=True)\n",
            "      (conv2): Conv2d(128, 128, kernel_size=(3, 3), stride=(1, 1), padding=(1, 1), bias=False)\n",
            "      (bn2): BatchNorm2d(128, eps=1e-05, momentum=0.1, affine=True, track_running_stats=True)\n",
            "      (downsample): Sequential(\n",
            "        (0): Conv2d(64, 128, kernel_size=(1, 1), stride=(2, 2), bias=False)\n",
            "        (1): BatchNorm2d(128, eps=1e-05, momentum=0.1, affine=True, track_running_stats=True)\n",
            "      )\n",
            "    )\n",
            "    (1): BasicBlock(\n",
            "      (conv1): Conv2d(128, 128, kernel_size=(3, 3), stride=(1, 1), padding=(1, 1), bias=False)\n",
            "      (bn1): BatchNorm2d(128, eps=1e-05, momentum=0.1, affine=True, track_running_stats=True)\n",
            "      (relu): ReLU(inplace=True)\n",
            "      (conv2): Conv2d(128, 128, kernel_size=(3, 3), stride=(1, 1), padding=(1, 1), bias=False)\n",
            "      (bn2): BatchNorm2d(128, eps=1e-05, momentum=0.1, affine=True, track_running_stats=True)\n",
            "    )\n",
            "  )\n",
            "  (layer3): Sequential(\n",
            "    (0): BasicBlock(\n",
            "      (conv1): Conv2d(128, 256, kernel_size=(3, 3), stride=(2, 2), padding=(1, 1), bias=False)\n",
            "      (bn1): BatchNorm2d(256, eps=1e-05, momentum=0.1, affine=True, track_running_stats=True)\n",
            "      (relu): ReLU(inplace=True)\n",
            "      (conv2): Conv2d(256, 256, kernel_size=(3, 3), stride=(1, 1), padding=(1, 1), bias=False)\n",
            "      (bn2): BatchNorm2d(256, eps=1e-05, momentum=0.1, affine=True, track_running_stats=True)\n",
            "      (downsample): Sequential(\n",
            "        (0): Conv2d(128, 256, kernel_size=(1, 1), stride=(2, 2), bias=False)\n",
            "        (1): BatchNorm2d(256, eps=1e-05, momentum=0.1, affine=True, track_running_stats=True)\n",
            "      )\n",
            "    )\n",
            "    (1): BasicBlock(\n",
            "      (conv1): Conv2d(256, 256, kernel_size=(3, 3), stride=(1, 1), padding=(1, 1), bias=False)\n",
            "      (bn1): BatchNorm2d(256, eps=1e-05, momentum=0.1, affine=True, track_running_stats=True)\n",
            "      (relu): ReLU(inplace=True)\n",
            "      (conv2): Conv2d(256, 256, kernel_size=(3, 3), stride=(1, 1), padding=(1, 1), bias=False)\n",
            "      (bn2): BatchNorm2d(256, eps=1e-05, momentum=0.1, affine=True, track_running_stats=True)\n",
            "    )\n",
            "  )\n",
            "  (layer4): Sequential(\n",
            "    (0): BasicBlock(\n",
            "      (conv1): Conv2d(256, 512, kernel_size=(3, 3), stride=(2, 2), padding=(1, 1), bias=False)\n",
            "      (bn1): BatchNorm2d(512, eps=1e-05, momentum=0.1, affine=True, track_running_stats=True)\n",
            "      (relu): ReLU(inplace=True)\n",
            "      (conv2): Conv2d(512, 512, kernel_size=(3, 3), stride=(1, 1), padding=(1, 1), bias=False)\n",
            "      (bn2): BatchNorm2d(512, eps=1e-05, momentum=0.1, affine=True, track_running_stats=True)\n",
            "      (downsample): Sequential(\n",
            "        (0): Conv2d(256, 512, kernel_size=(1, 1), stride=(2, 2), bias=False)\n",
            "        (1): BatchNorm2d(512, eps=1e-05, momentum=0.1, affine=True, track_running_stats=True)\n",
            "      )\n",
            "    )\n",
            "    (1): BasicBlock(\n",
            "      (conv1): Conv2d(512, 512, kernel_size=(3, 3), stride=(1, 1), padding=(1, 1), bias=False)\n",
            "      (bn1): BatchNorm2d(512, eps=1e-05, momentum=0.1, affine=True, track_running_stats=True)\n",
            "      (relu): ReLU(inplace=True)\n",
            "      (conv2): Conv2d(512, 512, kernel_size=(3, 3), stride=(1, 1), padding=(1, 1), bias=False)\n",
            "      (bn2): BatchNorm2d(512, eps=1e-05, momentum=0.1, affine=True, track_running_stats=True)\n",
            "    )\n",
            "  )\n",
            "  (avgpool): AdaptiveAvgPool2d(output_size=(1, 1))\n",
            "  (fc): Linear(in_features=512, out_features=2, bias=True)\n",
            ")\n"
          ],
          "name": "stdout"
        }
      ]
    },
    {
      "cell_type": "code",
      "metadata": {
        "colab": {
          "base_uri": "https://localhost:8080/"
        },
        "id": "TO4wR0WRz0oo",
        "outputId": "9a00f757-a01f-4f32-a0c1-54b05d422323"
      },
      "source": [
        "''' 10. 미리 학습되지 않은 ResNet18 학습 실행하며 Train, Test set의 Loss 및 Test set Accuracy 확인하기 '''\n",
        "for epoch in range(1, EPOCHS + 1):\n",
        "    train(model, dataloaders[\"train\"], optimizer, log_interval = 5)\n",
        "    test_loss, test_accuracy = evaluate(model, dataloaders[\"val\"])\n",
        "    print(\"\\n[EPOCH: {}], \\tTest Loss: {:.4f}, \\tTest Accuracy: {:.2f} % \\n\".format(\n",
        "        epoch, test_loss, test_accuracy))"
      ],
      "execution_count": null,
      "outputs": [
        {
          "output_type": "stream",
          "text": [
            "Train Epoch: 1 [0/397 (0%)]\tTrain Loss: 0.680059\n",
            "Train Epoch: 1 [160/397 (38%)]\tTrain Loss: 0.797265\n",
            "Train Epoch: 1 [320/397 (77%)]\tTrain Loss: 0.707568\n",
            "\n",
            "[EPOCH: 1], \tTest Loss: 0.0220, \tTest Accuracy: 61.46 % \n",
            "\n",
            "Train Epoch: 2 [0/397 (0%)]\tTrain Loss: 0.685285\n",
            "Train Epoch: 2 [160/397 (38%)]\tTrain Loss: 0.640181\n",
            "Train Epoch: 2 [320/397 (77%)]\tTrain Loss: 0.758996\n",
            "\n",
            "[EPOCH: 2], \tTest Loss: 0.0222, \tTest Accuracy: 57.43 % \n",
            "\n",
            "Train Epoch: 3 [0/397 (0%)]\tTrain Loss: 0.738492\n",
            "Train Epoch: 3 [160/397 (38%)]\tTrain Loss: 0.662160\n",
            "Train Epoch: 3 [320/397 (77%)]\tTrain Loss: 0.715061\n",
            "\n",
            "[EPOCH: 3], \tTest Loss: 0.0222, \tTest Accuracy: 55.92 % \n",
            "\n",
            "Train Epoch: 4 [0/397 (0%)]\tTrain Loss: 0.620663\n",
            "Train Epoch: 4 [160/397 (38%)]\tTrain Loss: 0.678170\n",
            "Train Epoch: 4 [320/397 (77%)]\tTrain Loss: 0.630540\n",
            "\n",
            "[EPOCH: 4], \tTest Loss: 0.0210, \tTest Accuracy: 63.48 % \n",
            "\n",
            "Train Epoch: 5 [0/397 (0%)]\tTrain Loss: 0.647196\n",
            "Train Epoch: 5 [160/397 (38%)]\tTrain Loss: 0.601413\n",
            "Train Epoch: 5 [320/397 (77%)]\tTrain Loss: 0.587527\n",
            "\n",
            "[EPOCH: 5], \tTest Loss: 0.0205, \tTest Accuracy: 64.74 % \n",
            "\n",
            "Train Epoch: 6 [0/397 (0%)]\tTrain Loss: 0.638028\n",
            "Train Epoch: 6 [160/397 (38%)]\tTrain Loss: 0.824613\n",
            "Train Epoch: 6 [320/397 (77%)]\tTrain Loss: 0.682440\n",
            "\n",
            "[EPOCH: 6], \tTest Loss: 0.0259, \tTest Accuracy: 46.10 % \n",
            "\n",
            "Train Epoch: 7 [0/397 (0%)]\tTrain Loss: 0.619188\n",
            "Train Epoch: 7 [160/397 (38%)]\tTrain Loss: 0.651026\n",
            "Train Epoch: 7 [320/397 (77%)]\tTrain Loss: 0.689864\n",
            "\n",
            "[EPOCH: 7], \tTest Loss: 0.0235, \tTest Accuracy: 62.47 % \n",
            "\n",
            "Train Epoch: 8 [0/397 (0%)]\tTrain Loss: 0.604692\n",
            "Train Epoch: 8 [160/397 (38%)]\tTrain Loss: 0.664275\n",
            "Train Epoch: 8 [320/397 (77%)]\tTrain Loss: 0.695716\n",
            "\n",
            "[EPOCH: 8], \tTest Loss: 0.0202, \tTest Accuracy: 66.50 % \n",
            "\n",
            "Train Epoch: 9 [0/397 (0%)]\tTrain Loss: 0.525289\n",
            "Train Epoch: 9 [160/397 (38%)]\tTrain Loss: 0.606626\n",
            "Train Epoch: 9 [320/397 (77%)]\tTrain Loss: 0.745523\n",
            "\n",
            "[EPOCH: 9], \tTest Loss: 0.0199, \tTest Accuracy: 66.25 % \n",
            "\n",
            "Train Epoch: 10 [0/397 (0%)]\tTrain Loss: 0.637303\n",
            "Train Epoch: 10 [160/397 (38%)]\tTrain Loss: 0.686891\n",
            "Train Epoch: 10 [320/397 (77%)]\tTrain Loss: 0.671414\n",
            "\n",
            "[EPOCH: 10], \tTest Loss: 0.0205, \tTest Accuracy: 64.23 % \n",
            "\n"
          ],
          "name": "stdout"
        }
      ]
    },
    {
      "cell_type": "code",
      "metadata": {
        "colab": {
          "base_uri": "https://localhost:8080/",
          "height": 1000,
          "referenced_widgets": [
            "eaa875ef8dbf44fe87ec1a2921f2e39c",
            "b723a12385c647b2bdd0425b18b73f74",
            "af6fe83d24cb43cabcfeda350d65a05e",
            "5cb37c8df38e45a2a60c418ae03ff184",
            "952017c706a34feab4a9f4700f438260",
            "b4e5bd088c704a2ba6272bda7a5ad4bb",
            "48ec6ef3d740471684bd88dad8dd5564",
            "1fb0c1f58c054e93aedb95e4bfc93fcc"
          ]
        },
        "id": "0T76dsO8z0oo",
        "outputId": "6922dc66-8b94-4031-9384-c81594b527ca"
      },
      "source": [
        "''' 11. IMAGENET 데이터로 미리 학습이 된 ResNet18 모델을 불러온 후 개미, 벌 이미지 데이터에 맞게 Fine Tuning 해보기 '''\n",
        "model = models.resnet18(pretrained = True)\n",
        "num_ftrs = model.fc.in_features\n",
        "model.fc = nn.Linear(num_ftrs, 2) # len(image_datasets.classes)\n",
        "model = model.cuda()\n",
        " \n",
        "optimizer = torch.optim.Adam(model.parameters(), lr = 0.0001)\n",
        "EPOCHS = 10\n",
        "for epoch in range(1, EPOCHS + 1):\n",
        "    train(model, dataloaders[\"train\"], optimizer, log_interval = 5)\n",
        "    valid_loss, valid_accuracy = evaluate(model, dataloaders[\"val\"])\n",
        "    print(\"\\n[EPOCH: {}], \\tTest Loss: {:.4f}, \\tTest Accuracy: {:.2f} % \\n\".format(\n",
        "        epoch, valid_loss, valid_accuracy))"
      ],
      "execution_count": null,
      "outputs": [
        {
          "output_type": "stream",
          "text": [
            "Downloading: \"https://download.pytorch.org/models/resnet18-5c106cde.pth\" to /root/.cache/torch/hub/checkpoints/resnet18-5c106cde.pth\n"
          ],
          "name": "stderr"
        },
        {
          "output_type": "display_data",
          "data": {
            "application/vnd.jupyter.widget-view+json": {
              "model_id": "eaa875ef8dbf44fe87ec1a2921f2e39c",
              "version_minor": 0,
              "version_major": 2
            },
            "text/plain": [
              "HBox(children=(FloatProgress(value=0.0, max=46827520.0), HTML(value='')))"
            ]
          },
          "metadata": {
            "tags": []
          }
        },
        {
          "output_type": "stream",
          "text": [
            "\n",
            "Train Epoch: 1 [0/397 (0%)]\tTrain Loss: 0.759090\n",
            "Train Epoch: 1 [160/397 (38%)]\tTrain Loss: 0.791624\n",
            "Train Epoch: 1 [320/397 (77%)]\tTrain Loss: 0.927696\n",
            "\n",
            "[EPOCH: 1], \tTest Loss: 0.0203, \tTest Accuracy: 66.25 % \n",
            "\n",
            "Train Epoch: 2 [0/397 (0%)]\tTrain Loss: 0.585493\n",
            "Train Epoch: 2 [160/397 (38%)]\tTrain Loss: 0.513347\n",
            "Train Epoch: 2 [320/397 (77%)]\tTrain Loss: 0.528384\n",
            "\n",
            "[EPOCH: 2], \tTest Loss: 0.0166, \tTest Accuracy: 79.35 % \n",
            "\n",
            "Train Epoch: 3 [0/397 (0%)]\tTrain Loss: 0.474881\n",
            "Train Epoch: 3 [160/397 (38%)]\tTrain Loss: 0.482719\n",
            "Train Epoch: 3 [320/397 (77%)]\tTrain Loss: 0.533283\n",
            "\n",
            "[EPOCH: 3], \tTest Loss: 0.0140, \tTest Accuracy: 85.39 % \n",
            "\n",
            "Train Epoch: 4 [0/397 (0%)]\tTrain Loss: 0.374430\n",
            "Train Epoch: 4 [160/397 (38%)]\tTrain Loss: 0.439353\n",
            "Train Epoch: 4 [320/397 (77%)]\tTrain Loss: 0.418411\n",
            "\n",
            "[EPOCH: 4], \tTest Loss: 0.0116, \tTest Accuracy: 87.91 % \n",
            "\n",
            "Train Epoch: 5 [0/397 (0%)]\tTrain Loss: 0.331602\n",
            "Train Epoch: 5 [160/397 (38%)]\tTrain Loss: 0.260736\n",
            "Train Epoch: 5 [320/397 (77%)]\tTrain Loss: 0.399973\n",
            "\n",
            "[EPOCH: 5], \tTest Loss: 0.0093, \tTest Accuracy: 91.69 % \n",
            "\n",
            "Train Epoch: 6 [0/397 (0%)]\tTrain Loss: 0.280982\n",
            "Train Epoch: 6 [160/397 (38%)]\tTrain Loss: 0.329989\n",
            "Train Epoch: 6 [320/397 (77%)]\tTrain Loss: 0.334895\n",
            "\n",
            "[EPOCH: 6], \tTest Loss: 0.0083, \tTest Accuracy: 93.20 % \n",
            "\n",
            "Train Epoch: 7 [0/397 (0%)]\tTrain Loss: 0.245559\n",
            "Train Epoch: 7 [160/397 (38%)]\tTrain Loss: 0.218016\n",
            "Train Epoch: 7 [320/397 (77%)]\tTrain Loss: 0.268468\n",
            "\n",
            "[EPOCH: 7], \tTest Loss: 0.0065, \tTest Accuracy: 94.46 % \n",
            "\n",
            "Train Epoch: 8 [0/397 (0%)]\tTrain Loss: 0.263684\n",
            "Train Epoch: 8 [160/397 (38%)]\tTrain Loss: 0.207506\n",
            "Train Epoch: 8 [320/397 (77%)]\tTrain Loss: 0.328123\n",
            "\n",
            "[EPOCH: 8], \tTest Loss: 0.0054, \tTest Accuracy: 95.72 % \n",
            "\n",
            "Train Epoch: 9 [0/397 (0%)]\tTrain Loss: 0.192395\n",
            "Train Epoch: 9 [160/397 (38%)]\tTrain Loss: 0.225190\n",
            "Train Epoch: 9 [320/397 (77%)]\tTrain Loss: 0.195706\n",
            "\n",
            "[EPOCH: 9], \tTest Loss: 0.0077, \tTest Accuracy: 90.43 % \n",
            "\n",
            "Train Epoch: 10 [0/397 (0%)]\tTrain Loss: 0.242190\n",
            "Train Epoch: 10 [160/397 (38%)]\tTrain Loss: 0.139094\n",
            "Train Epoch: 10 [320/397 (77%)]\tTrain Loss: 0.247783\n",
            "\n",
            "[EPOCH: 10], \tTest Loss: 0.0059, \tTest Accuracy: 92.70 % \n",
            "\n"
          ],
          "name": "stdout"
        }
      ]
    },
    {
      "cell_type": "code",
      "metadata": {
        "id": "RjG1Tw1Zz0op"
      },
      "source": [
        ""
      ],
      "execution_count": null,
      "outputs": []
    }
  ]
}